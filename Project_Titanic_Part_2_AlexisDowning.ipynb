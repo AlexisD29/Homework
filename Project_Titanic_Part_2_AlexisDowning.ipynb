{
  "nbformat": 4,
  "nbformat_minor": 0,
  "metadata": {
    "kernelspec": {
      "display_name": "Python 3",
      "language": "python",
      "name": "python3"
    },
    "language_info": {
      "codemirror_mode": {
        "name": "ipython",
        "version": 3
      },
      "file_extension": ".py",
      "mimetype": "text/x-python",
      "name": "python",
      "nbconvert_exporter": "python",
      "pygments_lexer": "ipython3",
      "version": "3.8.3"
    },
    "nav_menu": {},
    "toc": {
      "navigate_menu": true,
      "number_sections": true,
      "sideBar": true,
      "threshold": 6,
      "toc_cell": false,
      "toc_section_display": "block",
      "toc_window_display": false
    },
    "colab": {
      "name": "Project_Titanic_Part_2_AlexisDowning.ipynb",
      "provenance": [],
      "collapsed_sections": [],
      "include_colab_link": true
    }
  },
  "cells": [
    {
      "cell_type": "markdown",
      "metadata": {
        "id": "view-in-github",
        "colab_type": "text"
      },
      "source": [
        "<a href=\"https://colab.research.google.com/github/AlexisD29/Homework/blob/master/Project_Titanic_Part_2_AlexisDowning.ipynb\" target=\"_parent\"><img src=\"https://colab.research.google.com/assets/colab-badge.svg\" alt=\"Open In Colab\"/></a>"
      ]
    },
    {
      "cell_type": "markdown",
      "metadata": {
        "id": "lbOytv4mz_lx"
      },
      "source": [
        "# Project 1 - Titanic - Part 2 - Alexis Downing"
      ]
    },
    {
      "cell_type": "markdown",
      "metadata": {
        "id": "OAGbgOa8z_ly"
      },
      "source": [
        "The goal is to predict whether or not a passenger survived based on attributes such as their age, sex, passenger class, where they embarked and so on.\n",
        "\n",
        "## 1) Upload this jupyter notebook page to your colab\n",
        "\n",
        "\n"
      ]
    },
    {
      "cell_type": "markdown",
      "metadata": {
        "id": "pD05VVzIE_im"
      },
      "source": [
        "## 2) Get the Shareable link for your page and update the URL below for your Jupyter Notebook:\n",
        "- _Make sure you select __'Anyone with the Link'__ option_\n",
        "\n",
        "__This jupyter notebook page is located at__: YOUR LINK HERE\n",
        "\n",
        "We will click on the link above to visit to your Jupyter Notebook page."
      ]
    },
    {
      "cell_type": "markdown",
      "metadata": {
        "id": "wYRaIawfz_l0"
      },
      "source": [
        "## 3) Downloaded the data (train.csv and test.csv files) from Kaggle and then upload them using the first code block below. \n",
        "- To download the files, login to [Kaggle](https://www.kaggle.com/) and go to the [Titanic challenge](https://www.kaggle.com/c/titanic)\n"
      ]
    },
    {
      "cell_type": "markdown",
      "metadata": {
        "id": "6ucl-YDyF9yu"
      },
      "source": [
        "Keep the following code block as it is. Use it to upload the donwloaded csv files and to save them into your colab:"
      ]
    },
    {
      "cell_type": "code",
      "metadata": {
        "id": "a5Eb5SNhz_l6",
        "outputId": "1a26df5f-b0ef-4020-955e-bfb95bb14aab",
        "colab": {
          "resources": {
            "http://localhost:8080/nbextensions/google.colab/files.js": {
              "data": "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",
              "ok": true,
              "headers": [
                [
                  "content-type",
                  "application/javascript"
                ]
              ],
              "status": 200,
              "status_text": ""
            }
          },
          "base_uri": "https://localhost:8080/",
          "height": 127
        }
      },
      "source": [
        "from google.colab import files\n",
        "import pandas as pd\n",
        "import io\n",
        "import os\n",
        "\n",
        "train_data_dict = files.upload() #uploads as a disctionary and creates a file\n",
        "os.remove('train.csv') #remove the file created during upload that is in the root folder\n",
        "train_data = pd.read_csv(io.StringIO(train_data_dict['train.csv'].decode('utf-8')),sep=',') #get the data from the dictionary to the dataframe\n",
        "\n",
        "test_data_dict = files.upload() #uploads as a disctionary and creates a file\n",
        "os.remove('test.csv') #remove the file created during upload that is in the root folder\n",
        "test_data = pd.read_csv(io.StringIO(test_data_dict['test.csv'].decode('utf-8')),sep=',') #get the data from the dictionary to the dataframe\n",
        "\n",
        "titanic_dir_path = os.path.join(\"datasets\", \"titanic\")\n",
        "os.makedirs(titanic_dir_path, exist_ok=True) #create the folder\n",
        "train_csv_path = os.path.join(titanic_dir_path, \"train.csv\") #create the path for the csv file \n",
        "test_csv_path = os.path.join(titanic_dir_path, \"test.csv\") #create the path for the csv file\n",
        "\n",
        "train_data.to_csv(train_csv_path, index=False) #save the data to csv file\n",
        "test_data.to_csv(test_csv_path, index=False) #save the data to csv file"
      ],
      "execution_count": null,
      "outputs": [
        {
          "output_type": "display_data",
          "data": {
            "text/html": [
              "\n",
              "     <input type=\"file\" id=\"files-d3b8205a-962e-47ff-8e7b-2c69d47055ee\" name=\"files[]\" multiple disabled\n",
              "        style=\"border:none\" />\n",
              "     <output id=\"result-d3b8205a-962e-47ff-8e7b-2c69d47055ee\">\n",
              "      Upload widget is only available when the cell has been executed in the\n",
              "      current browser session. Please rerun this cell to enable.\n",
              "      </output>\n",
              "      <script src=\"/nbextensions/google.colab/files.js\"></script> "
            ],
            "text/plain": [
              "<IPython.core.display.HTML object>"
            ]
          },
          "metadata": {
            "tags": []
          }
        },
        {
          "output_type": "stream",
          "text": [
            "Saving train.csv to train.csv\n"
          ],
          "name": "stdout"
        },
        {
          "output_type": "display_data",
          "data": {
            "text/html": [
              "\n",
              "     <input type=\"file\" id=\"files-30abe181-bdf4-4a24-acf4-a1abdb7da101\" name=\"files[]\" multiple disabled\n",
              "        style=\"border:none\" />\n",
              "     <output id=\"result-30abe181-bdf4-4a24-acf4-a1abdb7da101\">\n",
              "      Upload widget is only available when the cell has been executed in the\n",
              "      current browser session. Please rerun this cell to enable.\n",
              "      </output>\n",
              "      <script src=\"/nbextensions/google.colab/files.js\"></script> "
            ],
            "text/plain": [
              "<IPython.core.display.HTML object>"
            ]
          },
          "metadata": {
            "tags": []
          }
        },
        {
          "output_type": "stream",
          "text": [
            "Saving test.csv to test.csv\n"
          ],
          "name": "stdout"
        }
      ]
    },
    {
      "cell_type": "markdown",
      "metadata": {
        "id": "9r504INxDG_1"
      },
      "source": [
        "Once you upload the data, they will be saved into the `datasets/titanic` directory. After uploading, you don't need to upload them again. You can start run your code starting the below code block."
      ]
    },
    {
      "cell_type": "code",
      "metadata": {
        "id": "Ipoqlpnxz_l8"
      },
      "source": [
        "import pandas as pd\n",
        "import os\n",
        "\n",
        "titanic_dir_path = os.path.join(\"datasets\", \"titanic\")\n",
        "train_csv_path = os.path.join(titanic_dir_path, \"train.csv\") #create the path for the csv file \n",
        "test_csv_path = os.path.join(titanic_dir_path, \"test.csv\") #create the path for the csv file\n",
        "\n",
        "train_data = pd.read_csv(train_csv_path)\n",
        "test_data = pd.read_csv(test_csv_path)\n"
      ],
      "execution_count": null,
      "outputs": []
    },
    {
      "cell_type": "markdown",
      "metadata": {
        "id": "PFN3j2OPm1NX"
      },
      "source": [
        "## 4) Part 1 Solutions:"
      ]
    },
    {
      "cell_type": "code",
      "metadata": {
        "id": "zHCjFiYIXMe9",
        "outputId": "4040a100-db89-4dc7-cb0f-a48bdc04ee91",
        "colab": {
          "base_uri": "https://localhost:8080/"
        }
      },
      "source": [
        "all_data = train_data.append(test_data) # important\n",
        "all_data.info()"
      ],
      "execution_count": null,
      "outputs": [
        {
          "output_type": "stream",
          "text": [
            "<class 'pandas.core.frame.DataFrame'>\n",
            "Int64Index: 1309 entries, 0 to 417\n",
            "Data columns (total 12 columns):\n",
            " #   Column       Non-Null Count  Dtype  \n",
            "---  ------       --------------  -----  \n",
            " 0   PassengerId  1309 non-null   int64  \n",
            " 1   Survived     891 non-null    float64\n",
            " 2   Pclass       1309 non-null   int64  \n",
            " 3   Name         1309 non-null   object \n",
            " 4   Sex          1309 non-null   object \n",
            " 5   Age          1046 non-null   float64\n",
            " 6   SibSp        1309 non-null   int64  \n",
            " 7   Parch        1309 non-null   int64  \n",
            " 8   Ticket       1309 non-null   object \n",
            " 9   Fare         1308 non-null   float64\n",
            " 10  Cabin        295 non-null    object \n",
            " 11  Embarked     1307 non-null   object \n",
            "dtypes: float64(3), int64(4), object(5)\n",
            "memory usage: 132.9+ KB\n"
          ],
          "name": "stdout"
        }
      ]
    },
    {
      "cell_type": "code",
      "metadata": {
        "id": "2SLJYzIiBve_"
      },
      "source": [
        "all_data.reset_index(inplace = True, drop = True) # reset the inde inplace and drop the created extra 'index' column"
      ],
      "execution_count": null,
      "outputs": []
    },
    {
      "cell_type": "code",
      "metadata": {
        "id": "vBvugB1KbSKD"
      },
      "source": [
        "# Fill in missing age information based on the median age for its class and sex.\n",
        "all_data['Age'] = all_data.groupby(['Pclass','Sex'])['Age'].apply(lambda x : x.fillna(x.median()))\n",
        "\n",
        "all_data.Cabin = all_data.Cabin.fillna('NA')\n",
        "\n",
        "# Create a new feature by adding SibSp, Parch and the person herself. \n",
        "all_data['Family_Size'] = all_data['SibSp'] + all_data['Parch'] + 1"
      ],
      "execution_count": null,
      "outputs": []
    },
    {
      "cell_type": "code",
      "metadata": {
        "id": "uetSvIgCcaHQ",
        "outputId": "d655ed92-5543-4edd-cce1-6460794507d0",
        "colab": {
          "base_uri": "https://localhost:8080/"
        }
      },
      "source": [
        "# Fill in missing Embarked based on the most frequent Embarked\n",
        "all_data['Embarked'].fillna(all_data['Embarked'].mode()[0], inplace = True)\n",
        "\n",
        "# Fill in missing fare based on its class and embarked place\n",
        "all_data['Fare'] = all_data.groupby(['Pclass','Embarked'])['Fare'].apply(lambda x : x.fillna(x.median()))\n",
        "all_data.info()"
      ],
      "execution_count": null,
      "outputs": [
        {
          "output_type": "stream",
          "text": [
            "<class 'pandas.core.frame.DataFrame'>\n",
            "RangeIndex: 1309 entries, 0 to 1308\n",
            "Data columns (total 13 columns):\n",
            " #   Column       Non-Null Count  Dtype  \n",
            "---  ------       --------------  -----  \n",
            " 0   PassengerId  1309 non-null   int64  \n",
            " 1   Survived     891 non-null    float64\n",
            " 2   Pclass       1309 non-null   int64  \n",
            " 3   Name         1309 non-null   object \n",
            " 4   Sex          1309 non-null   object \n",
            " 5   Age          1309 non-null   float64\n",
            " 6   SibSp        1309 non-null   int64  \n",
            " 7   Parch        1309 non-null   int64  \n",
            " 8   Ticket       1309 non-null   object \n",
            " 9   Fare         1309 non-null   float64\n",
            " 10  Cabin        1309 non-null   object \n",
            " 11  Embarked     1309 non-null   object \n",
            " 12  Family_Size  1309 non-null   int64  \n",
            "dtypes: float64(3), int64(5), object(5)\n",
            "memory usage: 133.1+ KB\n"
          ],
          "name": "stdout"
        }
      ]
    },
    {
      "cell_type": "code",
      "metadata": {
        "id": "HhvdaHzLFOfH",
        "outputId": "88a95f52-2b8e-40d4-8bcf-704a3b3ed03f",
        "colab": {
          "base_uri": "https://localhost:8080/"
        }
      },
      "source": [
        "results_categorical = pd.qcut(all_data['Fare'],5)\n",
        "all_data['Fare_Category'] = pd.Series(results_categorical).astype(str)\n",
        "all_data['Fare_Category'].value_counts()"
      ],
      "execution_count": null,
      "outputs": [
        {
          "output_type": "execute_result",
          "data": {
            "text/plain": [
              "(-0.001, 7.854]      275\n",
              "(21.558, 41.579]     265\n",
              "(41.579, 512.329]    259\n",
              "(7.854, 10.5]        255\n",
              "(10.5, 21.558]       255\n",
              "Name: Fare_Category, dtype: int64"
            ]
          },
          "metadata": {
            "tags": []
          },
          "execution_count": 7
        }
      ]
    },
    {
      "cell_type": "code",
      "metadata": {
        "id": "zLGD3tX7kwaF",
        "outputId": "1f991529-b068-4622-b756-17cbf0e62859",
        "colab": {
          "base_uri": "https://localhost:8080/"
        }
      },
      "source": [
        "results_categorical = pd.cut(all_data['Age'].astype(int),5)\n",
        "all_data['Age_Category'] = pd.Series(results_categorical).astype(str)\n",
        "all_data['Age_Category'].value_counts()"
      ],
      "execution_count": null,
      "outputs": [
        {
          "output_type": "execute_result",
          "data": {
            "text/plain": [
              "(16.0, 32.0]     752\n",
              "(32.0, 48.0]     304\n",
              "(-0.08, 16.0]    134\n",
              "(48.0, 64.0]     106\n",
              "(64.0, 80.0]      13\n",
              "Name: Age_Category, dtype: int64"
            ]
          },
          "metadata": {
            "tags": []
          },
          "execution_count": 8
        }
      ]
    },
    {
      "cell_type": "code",
      "metadata": {
        "id": "6PcYtwhhfcOM",
        "outputId": "709b6415-eebd-4e37-fc4d-172dfd486b81",
        "colab": {
          "base_uri": "https://localhost:8080/"
        }
      },
      "source": [
        "from sklearn.preprocessing import LabelEncoder\n",
        "all_data['Sex_Numeric'] = LabelEncoder().fit_transform(all_data['Sex'])\n",
        "all_data.info()"
      ],
      "execution_count": null,
      "outputs": [
        {
          "output_type": "stream",
          "text": [
            "<class 'pandas.core.frame.DataFrame'>\n",
            "RangeIndex: 1309 entries, 0 to 1308\n",
            "Data columns (total 16 columns):\n",
            " #   Column         Non-Null Count  Dtype  \n",
            "---  ------         --------------  -----  \n",
            " 0   PassengerId    1309 non-null   int64  \n",
            " 1   Survived       891 non-null    float64\n",
            " 2   Pclass         1309 non-null   int64  \n",
            " 3   Name           1309 non-null   object \n",
            " 4   Sex            1309 non-null   object \n",
            " 5   Age            1309 non-null   float64\n",
            " 6   SibSp          1309 non-null   int64  \n",
            " 7   Parch          1309 non-null   int64  \n",
            " 8   Ticket         1309 non-null   object \n",
            " 9   Fare           1309 non-null   float64\n",
            " 10  Cabin          1309 non-null   object \n",
            " 11  Embarked       1309 non-null   object \n",
            " 12  Family_Size    1309 non-null   int64  \n",
            " 13  Fare_Category  1309 non-null   object \n",
            " 14  Age_Category   1309 non-null   object \n",
            " 15  Sex_Numeric    1309 non-null   int64  \n",
            "dtypes: float64(3), int64(6), object(7)\n",
            "memory usage: 163.8+ KB\n"
          ],
          "name": "stdout"
        }
      ]
    },
    {
      "cell_type": "code",
      "metadata": {
        "id": "vEwCXYmq3Tb6"
      },
      "source": [
        "from sklearn.preprocessing import OneHotEncoder\n",
        "import numpy as np\n",
        "\n",
        "def encode_category_to_numeric(feature,data_frame):\n",
        "  encoded_feat = OneHotEncoder().fit_transform(data_frame[feature].values.reshape(-1,1)).toarray()\n",
        "  #number_unique = data_frame[feature].nunique()\n",
        "  unique_values = data_frame[feature].unique()\n",
        "  sorted_unique_value = np.sort(unique_values)\n",
        "  cols = ['{}_{}'.format(feature,value) for value in sorted_unique_value]\n",
        "  encoded_data = pd.DataFrame(encoded_feat, columns=cols)\n",
        "  return encoded_data\n"
      ],
      "execution_count": null,
      "outputs": []
    },
    {
      "cell_type": "code",
      "metadata": {
        "id": "9xE9FQuU3_cF"
      },
      "source": [
        "encoded_data = encode_category_to_numeric('Embarked',all_data)\n",
        "all_data = pd.concat([all_data, encoded_data], axis=1)"
      ],
      "execution_count": null,
      "outputs": []
    },
    {
      "cell_type": "code",
      "metadata": {
        "id": "QVTSb-Gl-HWM"
      },
      "source": [
        "encoded_data = encode_category_to_numeric('Fare_Category',all_data)\n",
        "all_data = pd.concat([all_data, encoded_data], axis=1)"
      ],
      "execution_count": null,
      "outputs": []
    },
    {
      "cell_type": "code",
      "metadata": {
        "id": "m7xIRJMl3Q5X",
        "outputId": "f820e7fa-47c6-405f-ba5e-185c7aa3f38a",
        "colab": {
          "base_uri": "https://localhost:8080/"
        }
      },
      "source": [
        "encoded_data = encode_category_to_numeric('Age_Category',all_data)\n",
        "all_data = pd.concat([all_data, encoded_data], axis=1)\n",
        "all_data.info()"
      ],
      "execution_count": null,
      "outputs": [
        {
          "output_type": "stream",
          "text": [
            "<class 'pandas.core.frame.DataFrame'>\n",
            "RangeIndex: 1309 entries, 0 to 1308\n",
            "Data columns (total 29 columns):\n",
            " #   Column                           Non-Null Count  Dtype  \n",
            "---  ------                           --------------  -----  \n",
            " 0   PassengerId                      1309 non-null   int64  \n",
            " 1   Survived                         891 non-null    float64\n",
            " 2   Pclass                           1309 non-null   int64  \n",
            " 3   Name                             1309 non-null   object \n",
            " 4   Sex                              1309 non-null   object \n",
            " 5   Age                              1309 non-null   float64\n",
            " 6   SibSp                            1309 non-null   int64  \n",
            " 7   Parch                            1309 non-null   int64  \n",
            " 8   Ticket                           1309 non-null   object \n",
            " 9   Fare                             1309 non-null   float64\n",
            " 10  Cabin                            1309 non-null   object \n",
            " 11  Embarked                         1309 non-null   object \n",
            " 12  Family_Size                      1309 non-null   int64  \n",
            " 13  Fare_Category                    1309 non-null   object \n",
            " 14  Age_Category                     1309 non-null   object \n",
            " 15  Sex_Numeric                      1309 non-null   int64  \n",
            " 16  Embarked_C                       1309 non-null   float64\n",
            " 17  Embarked_Q                       1309 non-null   float64\n",
            " 18  Embarked_S                       1309 non-null   float64\n",
            " 19  Fare_Category_(-0.001, 7.854]    1309 non-null   float64\n",
            " 20  Fare_Category_(10.5, 21.558]     1309 non-null   float64\n",
            " 21  Fare_Category_(21.558, 41.579]   1309 non-null   float64\n",
            " 22  Fare_Category_(41.579, 512.329]  1309 non-null   float64\n",
            " 23  Fare_Category_(7.854, 10.5]      1309 non-null   float64\n",
            " 24  Age_Category_(-0.08, 16.0]       1309 non-null   float64\n",
            " 25  Age_Category_(16.0, 32.0]        1309 non-null   float64\n",
            " 26  Age_Category_(32.0, 48.0]        1309 non-null   float64\n",
            " 27  Age_Category_(48.0, 64.0]        1309 non-null   float64\n",
            " 28  Age_Category_(64.0, 80.0]        1309 non-null   float64\n",
            "dtypes: float64(16), int64(6), object(7)\n",
            "memory usage: 296.7+ KB\n"
          ],
          "name": "stdout"
        }
      ]
    },
    {
      "cell_type": "code",
      "metadata": {
        "id": "csjM3R6KyyqJ",
        "outputId": "9288ec8a-c20d-45ad-bbbc-28faa8167345",
        "colab": {
          "base_uri": "https://localhost:8080/"
        }
      },
      "source": [
        "corr_matrix = all_data.corr()\n",
        "corr_matrix[\"Survived\"].sort_values(ascending=False)"
      ],
      "execution_count": null,
      "outputs": [
        {
          "output_type": "execute_result",
          "data": {
            "text/plain": [
              "Survived                           1.000000\n",
              "Fare_Category_(41.579, 512.329]    0.263007\n",
              "Fare                               0.257307\n",
              "Embarked_C                         0.168240\n",
              "Age_Category_(-0.08, 16.0]         0.121485\n",
              "Parch                              0.081629\n",
              "Fare_Category_(21.558, 41.579]     0.062529\n",
              "Fare_Category_(10.5, 21.558]       0.043153\n",
              "Age_Category_(32.0, 48.0]          0.032801\n",
              "Age_Category_(48.0, 64.0]          0.030350\n",
              "Family_Size                        0.016639\n",
              "Embarked_Q                         0.003650\n",
              "PassengerId                       -0.005007\n",
              "SibSp                             -0.035322\n",
              "Age                               -0.058635\n",
              "Age_Category_(64.0, 80.0]         -0.067344\n",
              "Age_Category_(16.0, 32.0]         -0.106821\n",
              "Embarked_S                        -0.149683\n",
              "Fare_Category_(-0.001, 7.854]     -0.171109\n",
              "Fare_Category_(7.854, 10.5]       -0.191707\n",
              "Pclass                            -0.338481\n",
              "Sex_Numeric                       -0.543351\n",
              "Name: Survived, dtype: float64"
            ]
          },
          "metadata": {
            "tags": []
          },
          "execution_count": 14
        }
      ]
    },
    {
      "cell_type": "markdown",
      "metadata": {
        "id": "L0pfM4bPDPlu"
      },
      "source": [
        "## 5)  Part 2 Questions:"
      ]
    },
    {
      "cell_type": "markdown",
      "metadata": {
        "id": "GVZOPDGKngj3"
      },
      "source": [
        "### 5) a) More feature engineering: Similar to what you have done for 'Age', 'Fare' and 'Embarked', use one hot encoder to prepare new features for Pclass."
      ]
    },
    {
      "cell_type": "code",
      "metadata": {
        "id": "t2wZeMhjlZqe",
        "outputId": "ceca8adb-cbea-4cf8-ec8f-7775c3006286",
        "colab": {
          "base_uri": "https://localhost:8080/"
        }
      },
      "source": [
        "import numpy as np\n",
        "from sklearn.preprocessing import OneHotEncoder\n",
        "# creating instance of one-hot-encoder\n",
        "enc = OneHotEncoder(handle_unknown='ignore')\n",
        "# passing Pclass column (label encoded values of Pclass)\n",
        "encoded_feat = OneHotEncoder().fit_transform(all_data['Pclass'].values.reshape(-1,1)).toarray()\n",
        "print(encoded_feat)"
      ],
      "execution_count": null,
      "outputs": [
        {
          "output_type": "stream",
          "text": [
            "[[0. 0. 1.]\n",
            " [1. 0. 0.]\n",
            " [0. 0. 1.]\n",
            " ...\n",
            " [0. 0. 1.]\n",
            " [0. 0. 1.]\n",
            " [0. 0. 1.]]\n"
          ],
          "name": "stdout"
        }
      ]
    },
    {
      "cell_type": "markdown",
      "metadata": {
        "id": "jiHccK1Nl3mN"
      },
      "source": [
        "### 5) b) Convert 'Sex_Numeric' and 'Family_Size' fields to 'float16' and then calculate  correlations matrix."
      ]
    },
    {
      "cell_type": "code",
      "metadata": {
        "id": "XWdxOrYHlcZ8",
        "outputId": "4161df40-5eab-4e54-d981-59afbcb14c6b",
        "colab": {
          "base_uri": "https://localhost:8080/"
        }
      },
      "source": [
        "Converted_Sex_Numeric = all_data['Sex_Numeric'].astype('float16')\n",
        "#Converted_Sex_Numeric for the the correlation matrix will be represented by the variable corrM_CSN\n",
        "\n",
        "Converted_Family_Size = all_data['Family_Size'].astype('float16')\n",
        "#Converted_Family_Sizefor the the correlation matrix will be represented by the variable corrM_CFS\n",
        "\n",
        "\n",
        "all_data = pd.concat([all_data, Converted_Sex_Numeric], axis=1)\n",
        "all_data = pd.concat([all_data, Converted_Family_Size], axis=1)\n",
        "\n",
        "Correlation_Matrix = all_data.corr()\n",
        "print(Correlation_Matrix)"
      ],
      "execution_count": null,
      "outputs": [
        {
          "output_type": "stream",
          "text": [
            "                                 PassengerId  ...  Family_Size\n",
            "PassengerId                         1.000000  ...    -0.031437\n",
            "Survived                           -0.005007  ...     0.016639\n",
            "Pclass                             -0.038354  ...     0.050027\n",
            "Age                                 0.020478  ...    -0.207570\n",
            "SibSp                              -0.055224  ...     0.861952\n",
            "Parch                               0.008942  ...     0.792296\n",
            "Fare                                0.031029  ...     0.226653\n",
            "Family_Size                        -0.031437  ...     1.000000\n",
            "Sex_Numeric                         0.013406  ...    -0.188583\n",
            "Embarked_C                          0.048101  ...    -0.036553\n",
            "Embarked_Q                          0.011585  ...    -0.087190\n",
            "Embarked_S                         -0.049836  ...     0.087771\n",
            "Fare_Category_(-0.001, 7.854]       0.048268  ...    -0.252406\n",
            "Fare_Category_(10.5, 21.558]       -0.001128  ...     0.009273\n",
            "Fare_Category_(21.558, 41.579]     -0.014435  ...     0.235118\n",
            "Fare_Category_(41.579, 512.329]     0.021562  ...     0.245992\n",
            "Fare_Category_(7.854, 10.5]        -0.055563  ...    -0.235642\n",
            "Age_Category_(-0.08, 16.0]         -0.046825  ...     0.386151\n",
            "Age_Category_(16.0, 32.0]           0.040743  ...    -0.185136\n",
            "Age_Category_(32.0, 48.0]          -0.020099  ...    -0.044228\n",
            "Age_Category_(48.0, 64.0]           0.024989  ...    -0.013606\n",
            "Age_Category_(64.0, 80.0]          -0.043162  ...    -0.031587\n",
            "Sex_Numeric                         0.013406  ...    -0.188583\n",
            "Family_Size                        -0.031437  ...     1.000000\n",
            "\n",
            "[24 rows x 24 columns]\n"
          ],
          "name": "stdout"
        }
      ]
    },
    {
      "cell_type": "code",
      "metadata": {
        "id": "mHOJtyOpuR0O",
        "outputId": "30ec257f-75a6-4d91-8d1e-66e7ebe30b68",
        "colab": {
          "base_uri": "https://localhost:8080/",
          "height": 1000
        }
      },
      "source": [
        "all_data.corr() < 0.05 "
      ],
      "execution_count": null,
      "outputs": [
        {
          "output_type": "execute_result",
          "data": {
            "text/html": [
              "<div>\n",
              "<style scoped>\n",
              "    .dataframe tbody tr th:only-of-type {\n",
              "        vertical-align: middle;\n",
              "    }\n",
              "\n",
              "    .dataframe tbody tr th {\n",
              "        vertical-align: top;\n",
              "    }\n",
              "\n",
              "    .dataframe thead th {\n",
              "        text-align: right;\n",
              "    }\n",
              "</style>\n",
              "<table border=\"1\" class=\"dataframe\">\n",
              "  <thead>\n",
              "    <tr style=\"text-align: right;\">\n",
              "      <th></th>\n",
              "      <th>PassengerId</th>\n",
              "      <th>Survived</th>\n",
              "      <th>Pclass</th>\n",
              "      <th>Age</th>\n",
              "      <th>SibSp</th>\n",
              "      <th>Parch</th>\n",
              "      <th>Fare</th>\n",
              "      <th>Family_Size</th>\n",
              "      <th>Sex_Numeric</th>\n",
              "      <th>Embarked_C</th>\n",
              "      <th>Embarked_Q</th>\n",
              "      <th>Embarked_S</th>\n",
              "      <th>Fare_Category_(-0.001, 7.854]</th>\n",
              "      <th>Fare_Category_(10.5, 21.558]</th>\n",
              "      <th>Fare_Category_(21.558, 41.579]</th>\n",
              "      <th>Fare_Category_(41.579, 512.329]</th>\n",
              "      <th>Fare_Category_(7.854, 10.5]</th>\n",
              "      <th>Age_Category_(-0.08, 16.0]</th>\n",
              "      <th>Age_Category_(16.0, 32.0]</th>\n",
              "      <th>Age_Category_(32.0, 48.0]</th>\n",
              "      <th>Age_Category_(48.0, 64.0]</th>\n",
              "      <th>Age_Category_(64.0, 80.0]</th>\n",
              "      <th>Sex_Numeric</th>\n",
              "      <th>Family_Size</th>\n",
              "    </tr>\n",
              "  </thead>\n",
              "  <tbody>\n",
              "    <tr>\n",
              "      <th>PassengerId</th>\n",
              "      <td>False</td>\n",
              "      <td>True</td>\n",
              "      <td>True</td>\n",
              "      <td>True</td>\n",
              "      <td>True</td>\n",
              "      <td>True</td>\n",
              "      <td>True</td>\n",
              "      <td>True</td>\n",
              "      <td>True</td>\n",
              "      <td>True</td>\n",
              "      <td>True</td>\n",
              "      <td>True</td>\n",
              "      <td>True</td>\n",
              "      <td>True</td>\n",
              "      <td>True</td>\n",
              "      <td>True</td>\n",
              "      <td>True</td>\n",
              "      <td>True</td>\n",
              "      <td>True</td>\n",
              "      <td>True</td>\n",
              "      <td>True</td>\n",
              "      <td>True</td>\n",
              "      <td>True</td>\n",
              "      <td>True</td>\n",
              "    </tr>\n",
              "    <tr>\n",
              "      <th>Survived</th>\n",
              "      <td>True</td>\n",
              "      <td>False</td>\n",
              "      <td>True</td>\n",
              "      <td>True</td>\n",
              "      <td>True</td>\n",
              "      <td>False</td>\n",
              "      <td>False</td>\n",
              "      <td>True</td>\n",
              "      <td>True</td>\n",
              "      <td>False</td>\n",
              "      <td>True</td>\n",
              "      <td>True</td>\n",
              "      <td>True</td>\n",
              "      <td>True</td>\n",
              "      <td>False</td>\n",
              "      <td>False</td>\n",
              "      <td>True</td>\n",
              "      <td>False</td>\n",
              "      <td>True</td>\n",
              "      <td>True</td>\n",
              "      <td>True</td>\n",
              "      <td>True</td>\n",
              "      <td>True</td>\n",
              "      <td>True</td>\n",
              "    </tr>\n",
              "    <tr>\n",
              "      <th>Pclass</th>\n",
              "      <td>True</td>\n",
              "      <td>True</td>\n",
              "      <td>False</td>\n",
              "      <td>True</td>\n",
              "      <td>False</td>\n",
              "      <td>True</td>\n",
              "      <td>True</td>\n",
              "      <td>False</td>\n",
              "      <td>False</td>\n",
              "      <td>True</td>\n",
              "      <td>False</td>\n",
              "      <td>False</td>\n",
              "      <td>False</td>\n",
              "      <td>False</td>\n",
              "      <td>True</td>\n",
              "      <td>True</td>\n",
              "      <td>False</td>\n",
              "      <td>False</td>\n",
              "      <td>False</td>\n",
              "      <td>True</td>\n",
              "      <td>True</td>\n",
              "      <td>True</td>\n",
              "      <td>False</td>\n",
              "      <td>False</td>\n",
              "    </tr>\n",
              "    <tr>\n",
              "      <th>Age</th>\n",
              "      <td>True</td>\n",
              "      <td>True</td>\n",
              "      <td>True</td>\n",
              "      <td>False</td>\n",
              "      <td>True</td>\n",
              "      <td>True</td>\n",
              "      <td>False</td>\n",
              "      <td>True</td>\n",
              "      <td>False</td>\n",
              "      <td>False</td>\n",
              "      <td>True</td>\n",
              "      <td>True</td>\n",
              "      <td>True</td>\n",
              "      <td>True</td>\n",
              "      <td>False</td>\n",
              "      <td>False</td>\n",
              "      <td>True</td>\n",
              "      <td>True</td>\n",
              "      <td>True</td>\n",
              "      <td>False</td>\n",
              "      <td>False</td>\n",
              "      <td>False</td>\n",
              "      <td>False</td>\n",
              "      <td>True</td>\n",
              "    </tr>\n",
              "    <tr>\n",
              "      <th>SibSp</th>\n",
              "      <td>True</td>\n",
              "      <td>True</td>\n",
              "      <td>False</td>\n",
              "      <td>True</td>\n",
              "      <td>False</td>\n",
              "      <td>False</td>\n",
              "      <td>False</td>\n",
              "      <td>False</td>\n",
              "      <td>True</td>\n",
              "      <td>True</td>\n",
              "      <td>True</td>\n",
              "      <td>False</td>\n",
              "      <td>True</td>\n",
              "      <td>True</td>\n",
              "      <td>False</td>\n",
              "      <td>False</td>\n",
              "      <td>True</td>\n",
              "      <td>False</td>\n",
              "      <td>True</td>\n",
              "      <td>True</td>\n",
              "      <td>True</td>\n",
              "      <td>True</td>\n",
              "      <td>True</td>\n",
              "      <td>False</td>\n",
              "    </tr>\n",
              "    <tr>\n",
              "      <th>Parch</th>\n",
              "      <td>True</td>\n",
              "      <td>False</td>\n",
              "      <td>True</td>\n",
              "      <td>True</td>\n",
              "      <td>False</td>\n",
              "      <td>False</td>\n",
              "      <td>False</td>\n",
              "      <td>False</td>\n",
              "      <td>True</td>\n",
              "      <td>True</td>\n",
              "      <td>True</td>\n",
              "      <td>False</td>\n",
              "      <td>True</td>\n",
              "      <td>True</td>\n",
              "      <td>False</td>\n",
              "      <td>False</td>\n",
              "      <td>True</td>\n",
              "      <td>False</td>\n",
              "      <td>True</td>\n",
              "      <td>True</td>\n",
              "      <td>True</td>\n",
              "      <td>True</td>\n",
              "      <td>True</td>\n",
              "      <td>False</td>\n",
              "    </tr>\n",
              "    <tr>\n",
              "      <th>Fare</th>\n",
              "      <td>True</td>\n",
              "      <td>False</td>\n",
              "      <td>True</td>\n",
              "      <td>False</td>\n",
              "      <td>False</td>\n",
              "      <td>False</td>\n",
              "      <td>False</td>\n",
              "      <td>False</td>\n",
              "      <td>True</td>\n",
              "      <td>False</td>\n",
              "      <td>True</td>\n",
              "      <td>True</td>\n",
              "      <td>True</td>\n",
              "      <td>True</td>\n",
              "      <td>True</td>\n",
              "      <td>False</td>\n",
              "      <td>True</td>\n",
              "      <td>True</td>\n",
              "      <td>True</td>\n",
              "      <td>False</td>\n",
              "      <td>False</td>\n",
              "      <td>True</td>\n",
              "      <td>True</td>\n",
              "      <td>False</td>\n",
              "    </tr>\n",
              "    <tr>\n",
              "      <th>Family_Size</th>\n",
              "      <td>True</td>\n",
              "      <td>True</td>\n",
              "      <td>False</td>\n",
              "      <td>True</td>\n",
              "      <td>False</td>\n",
              "      <td>False</td>\n",
              "      <td>False</td>\n",
              "      <td>False</td>\n",
              "      <td>True</td>\n",
              "      <td>True</td>\n",
              "      <td>True</td>\n",
              "      <td>False</td>\n",
              "      <td>True</td>\n",
              "      <td>True</td>\n",
              "      <td>False</td>\n",
              "      <td>False</td>\n",
              "      <td>True</td>\n",
              "      <td>False</td>\n",
              "      <td>True</td>\n",
              "      <td>True</td>\n",
              "      <td>True</td>\n",
              "      <td>True</td>\n",
              "      <td>True</td>\n",
              "      <td>False</td>\n",
              "    </tr>\n",
              "    <tr>\n",
              "      <th>Sex_Numeric</th>\n",
              "      <td>True</td>\n",
              "      <td>True</td>\n",
              "      <td>False</td>\n",
              "      <td>False</td>\n",
              "      <td>True</td>\n",
              "      <td>True</td>\n",
              "      <td>True</td>\n",
              "      <td>True</td>\n",
              "      <td>False</td>\n",
              "      <td>True</td>\n",
              "      <td>True</td>\n",
              "      <td>False</td>\n",
              "      <td>False</td>\n",
              "      <td>True</td>\n",
              "      <td>True</td>\n",
              "      <td>True</td>\n",
              "      <td>False</td>\n",
              "      <td>True</td>\n",
              "      <td>True</td>\n",
              "      <td>True</td>\n",
              "      <td>True</td>\n",
              "      <td>False</td>\n",
              "      <td>False</td>\n",
              "      <td>True</td>\n",
              "    </tr>\n",
              "    <tr>\n",
              "      <th>Embarked_C</th>\n",
              "      <td>True</td>\n",
              "      <td>False</td>\n",
              "      <td>True</td>\n",
              "      <td>False</td>\n",
              "      <td>True</td>\n",
              "      <td>True</td>\n",
              "      <td>False</td>\n",
              "      <td>True</td>\n",
              "      <td>True</td>\n",
              "      <td>False</td>\n",
              "      <td>True</td>\n",
              "      <td>True</td>\n",
              "      <td>True</td>\n",
              "      <td>True</td>\n",
              "      <td>True</td>\n",
              "      <td>False</td>\n",
              "      <td>True</td>\n",
              "      <td>True</td>\n",
              "      <td>True</td>\n",
              "      <td>True</td>\n",
              "      <td>False</td>\n",
              "      <td>True</td>\n",
              "      <td>True</td>\n",
              "      <td>True</td>\n",
              "    </tr>\n",
              "    <tr>\n",
              "      <th>Embarked_Q</th>\n",
              "      <td>True</td>\n",
              "      <td>True</td>\n",
              "      <td>False</td>\n",
              "      <td>True</td>\n",
              "      <td>True</td>\n",
              "      <td>True</td>\n",
              "      <td>True</td>\n",
              "      <td>True</td>\n",
              "      <td>True</td>\n",
              "      <td>True</td>\n",
              "      <td>False</td>\n",
              "      <td>True</td>\n",
              "      <td>False</td>\n",
              "      <td>True</td>\n",
              "      <td>True</td>\n",
              "      <td>True</td>\n",
              "      <td>True</td>\n",
              "      <td>True</td>\n",
              "      <td>False</td>\n",
              "      <td>True</td>\n",
              "      <td>True</td>\n",
              "      <td>True</td>\n",
              "      <td>True</td>\n",
              "      <td>True</td>\n",
              "    </tr>\n",
              "    <tr>\n",
              "      <th>Embarked_S</th>\n",
              "      <td>True</td>\n",
              "      <td>True</td>\n",
              "      <td>False</td>\n",
              "      <td>True</td>\n",
              "      <td>False</td>\n",
              "      <td>False</td>\n",
              "      <td>True</td>\n",
              "      <td>False</td>\n",
              "      <td>False</td>\n",
              "      <td>True</td>\n",
              "      <td>True</td>\n",
              "      <td>False</td>\n",
              "      <td>True</td>\n",
              "      <td>True</td>\n",
              "      <td>False</td>\n",
              "      <td>True</td>\n",
              "      <td>False</td>\n",
              "      <td>True</td>\n",
              "      <td>True</td>\n",
              "      <td>True</td>\n",
              "      <td>True</td>\n",
              "      <td>True</td>\n",
              "      <td>False</td>\n",
              "      <td>False</td>\n",
              "    </tr>\n",
              "    <tr>\n",
              "      <th>Fare_Category_(-0.001, 7.854]</th>\n",
              "      <td>True</td>\n",
              "      <td>True</td>\n",
              "      <td>False</td>\n",
              "      <td>True</td>\n",
              "      <td>True</td>\n",
              "      <td>True</td>\n",
              "      <td>True</td>\n",
              "      <td>True</td>\n",
              "      <td>False</td>\n",
              "      <td>True</td>\n",
              "      <td>False</td>\n",
              "      <td>True</td>\n",
              "      <td>False</td>\n",
              "      <td>True</td>\n",
              "      <td>True</td>\n",
              "      <td>True</td>\n",
              "      <td>True</td>\n",
              "      <td>True</td>\n",
              "      <td>False</td>\n",
              "      <td>True</td>\n",
              "      <td>True</td>\n",
              "      <td>True</td>\n",
              "      <td>False</td>\n",
              "      <td>True</td>\n",
              "    </tr>\n",
              "    <tr>\n",
              "      <th>Fare_Category_(10.5, 21.558]</th>\n",
              "      <td>True</td>\n",
              "      <td>True</td>\n",
              "      <td>False</td>\n",
              "      <td>True</td>\n",
              "      <td>True</td>\n",
              "      <td>True</td>\n",
              "      <td>True</td>\n",
              "      <td>True</td>\n",
              "      <td>True</td>\n",
              "      <td>True</td>\n",
              "      <td>True</td>\n",
              "      <td>True</td>\n",
              "      <td>True</td>\n",
              "      <td>False</td>\n",
              "      <td>True</td>\n",
              "      <td>True</td>\n",
              "      <td>True</td>\n",
              "      <td>False</td>\n",
              "      <td>True</td>\n",
              "      <td>True</td>\n",
              "      <td>True</td>\n",
              "      <td>True</td>\n",
              "      <td>True</td>\n",
              "      <td>True</td>\n",
              "    </tr>\n",
              "    <tr>\n",
              "      <th>Fare_Category_(21.558, 41.579]</th>\n",
              "      <td>True</td>\n",
              "      <td>False</td>\n",
              "      <td>True</td>\n",
              "      <td>False</td>\n",
              "      <td>False</td>\n",
              "      <td>False</td>\n",
              "      <td>True</td>\n",
              "      <td>False</td>\n",
              "      <td>True</td>\n",
              "      <td>True</td>\n",
              "      <td>True</td>\n",
              "      <td>False</td>\n",
              "      <td>True</td>\n",
              "      <td>True</td>\n",
              "      <td>False</td>\n",
              "      <td>True</td>\n",
              "      <td>True</td>\n",
              "      <td>False</td>\n",
              "      <td>True</td>\n",
              "      <td>False</td>\n",
              "      <td>False</td>\n",
              "      <td>True</td>\n",
              "      <td>True</td>\n",
              "      <td>False</td>\n",
              "    </tr>\n",
              "    <tr>\n",
              "      <th>Fare_Category_(41.579, 512.329]</th>\n",
              "      <td>True</td>\n",
              "      <td>False</td>\n",
              "      <td>True</td>\n",
              "      <td>False</td>\n",
              "      <td>False</td>\n",
              "      <td>False</td>\n",
              "      <td>False</td>\n",
              "      <td>False</td>\n",
              "      <td>True</td>\n",
              "      <td>False</td>\n",
              "      <td>True</td>\n",
              "      <td>True</td>\n",
              "      <td>True</td>\n",
              "      <td>True</td>\n",
              "      <td>True</td>\n",
              "      <td>False</td>\n",
              "      <td>True</td>\n",
              "      <td>True</td>\n",
              "      <td>True</td>\n",
              "      <td>False</td>\n",
              "      <td>False</td>\n",
              "      <td>True</td>\n",
              "      <td>True</td>\n",
              "      <td>False</td>\n",
              "    </tr>\n",
              "    <tr>\n",
              "      <th>Fare_Category_(7.854, 10.5]</th>\n",
              "      <td>True</td>\n",
              "      <td>True</td>\n",
              "      <td>False</td>\n",
              "      <td>True</td>\n",
              "      <td>True</td>\n",
              "      <td>True</td>\n",
              "      <td>True</td>\n",
              "      <td>True</td>\n",
              "      <td>False</td>\n",
              "      <td>True</td>\n",
              "      <td>True</td>\n",
              "      <td>False</td>\n",
              "      <td>True</td>\n",
              "      <td>True</td>\n",
              "      <td>True</td>\n",
              "      <td>True</td>\n",
              "      <td>False</td>\n",
              "      <td>True</td>\n",
              "      <td>False</td>\n",
              "      <td>True</td>\n",
              "      <td>True</td>\n",
              "      <td>True</td>\n",
              "      <td>False</td>\n",
              "      <td>True</td>\n",
              "    </tr>\n",
              "    <tr>\n",
              "      <th>Age_Category_(-0.08, 16.0]</th>\n",
              "      <td>True</td>\n",
              "      <td>False</td>\n",
              "      <td>False</td>\n",
              "      <td>True</td>\n",
              "      <td>False</td>\n",
              "      <td>False</td>\n",
              "      <td>True</td>\n",
              "      <td>False</td>\n",
              "      <td>True</td>\n",
              "      <td>True</td>\n",
              "      <td>True</td>\n",
              "      <td>True</td>\n",
              "      <td>True</td>\n",
              "      <td>False</td>\n",
              "      <td>False</td>\n",
              "      <td>True</td>\n",
              "      <td>True</td>\n",
              "      <td>False</td>\n",
              "      <td>True</td>\n",
              "      <td>True</td>\n",
              "      <td>True</td>\n",
              "      <td>True</td>\n",
              "      <td>True</td>\n",
              "      <td>False</td>\n",
              "    </tr>\n",
              "    <tr>\n",
              "      <th>Age_Category_(16.0, 32.0]</th>\n",
              "      <td>True</td>\n",
              "      <td>True</td>\n",
              "      <td>False</td>\n",
              "      <td>True</td>\n",
              "      <td>True</td>\n",
              "      <td>True</td>\n",
              "      <td>True</td>\n",
              "      <td>True</td>\n",
              "      <td>True</td>\n",
              "      <td>True</td>\n",
              "      <td>False</td>\n",
              "      <td>True</td>\n",
              "      <td>False</td>\n",
              "      <td>True</td>\n",
              "      <td>True</td>\n",
              "      <td>True</td>\n",
              "      <td>False</td>\n",
              "      <td>True</td>\n",
              "      <td>False</td>\n",
              "      <td>True</td>\n",
              "      <td>True</td>\n",
              "      <td>True</td>\n",
              "      <td>True</td>\n",
              "      <td>True</td>\n",
              "    </tr>\n",
              "    <tr>\n",
              "      <th>Age_Category_(32.0, 48.0]</th>\n",
              "      <td>True</td>\n",
              "      <td>True</td>\n",
              "      <td>True</td>\n",
              "      <td>False</td>\n",
              "      <td>True</td>\n",
              "      <td>True</td>\n",
              "      <td>False</td>\n",
              "      <td>True</td>\n",
              "      <td>True</td>\n",
              "      <td>True</td>\n",
              "      <td>True</td>\n",
              "      <td>True</td>\n",
              "      <td>True</td>\n",
              "      <td>True</td>\n",
              "      <td>False</td>\n",
              "      <td>False</td>\n",
              "      <td>True</td>\n",
              "      <td>True</td>\n",
              "      <td>True</td>\n",
              "      <td>False</td>\n",
              "      <td>True</td>\n",
              "      <td>True</td>\n",
              "      <td>True</td>\n",
              "      <td>True</td>\n",
              "    </tr>\n",
              "    <tr>\n",
              "      <th>Age_Category_(48.0, 64.0]</th>\n",
              "      <td>True</td>\n",
              "      <td>True</td>\n",
              "      <td>True</td>\n",
              "      <td>False</td>\n",
              "      <td>True</td>\n",
              "      <td>True</td>\n",
              "      <td>False</td>\n",
              "      <td>True</td>\n",
              "      <td>True</td>\n",
              "      <td>False</td>\n",
              "      <td>True</td>\n",
              "      <td>True</td>\n",
              "      <td>True</td>\n",
              "      <td>True</td>\n",
              "      <td>False</td>\n",
              "      <td>False</td>\n",
              "      <td>True</td>\n",
              "      <td>True</td>\n",
              "      <td>True</td>\n",
              "      <td>True</td>\n",
              "      <td>False</td>\n",
              "      <td>True</td>\n",
              "      <td>True</td>\n",
              "      <td>True</td>\n",
              "    </tr>\n",
              "    <tr>\n",
              "      <th>Age_Category_(64.0, 80.0]</th>\n",
              "      <td>True</td>\n",
              "      <td>True</td>\n",
              "      <td>True</td>\n",
              "      <td>False</td>\n",
              "      <td>True</td>\n",
              "      <td>True</td>\n",
              "      <td>True</td>\n",
              "      <td>True</td>\n",
              "      <td>False</td>\n",
              "      <td>True</td>\n",
              "      <td>True</td>\n",
              "      <td>True</td>\n",
              "      <td>True</td>\n",
              "      <td>True</td>\n",
              "      <td>True</td>\n",
              "      <td>True</td>\n",
              "      <td>True</td>\n",
              "      <td>True</td>\n",
              "      <td>True</td>\n",
              "      <td>True</td>\n",
              "      <td>True</td>\n",
              "      <td>False</td>\n",
              "      <td>False</td>\n",
              "      <td>True</td>\n",
              "    </tr>\n",
              "    <tr>\n",
              "      <th>Sex_Numeric</th>\n",
              "      <td>True</td>\n",
              "      <td>True</td>\n",
              "      <td>False</td>\n",
              "      <td>False</td>\n",
              "      <td>True</td>\n",
              "      <td>True</td>\n",
              "      <td>True</td>\n",
              "      <td>True</td>\n",
              "      <td>False</td>\n",
              "      <td>True</td>\n",
              "      <td>True</td>\n",
              "      <td>False</td>\n",
              "      <td>False</td>\n",
              "      <td>True</td>\n",
              "      <td>True</td>\n",
              "      <td>True</td>\n",
              "      <td>False</td>\n",
              "      <td>True</td>\n",
              "      <td>True</td>\n",
              "      <td>True</td>\n",
              "      <td>True</td>\n",
              "      <td>False</td>\n",
              "      <td>False</td>\n",
              "      <td>True</td>\n",
              "    </tr>\n",
              "    <tr>\n",
              "      <th>Family_Size</th>\n",
              "      <td>True</td>\n",
              "      <td>True</td>\n",
              "      <td>False</td>\n",
              "      <td>True</td>\n",
              "      <td>False</td>\n",
              "      <td>False</td>\n",
              "      <td>False</td>\n",
              "      <td>False</td>\n",
              "      <td>True</td>\n",
              "      <td>True</td>\n",
              "      <td>True</td>\n",
              "      <td>False</td>\n",
              "      <td>True</td>\n",
              "      <td>True</td>\n",
              "      <td>False</td>\n",
              "      <td>False</td>\n",
              "      <td>True</td>\n",
              "      <td>False</td>\n",
              "      <td>True</td>\n",
              "      <td>True</td>\n",
              "      <td>True</td>\n",
              "      <td>True</td>\n",
              "      <td>True</td>\n",
              "      <td>False</td>\n",
              "    </tr>\n",
              "  </tbody>\n",
              "</table>\n",
              "</div>"
            ],
            "text/plain": [
              "                                 PassengerId  ...  Family_Size\n",
              "PassengerId                            False  ...         True\n",
              "Survived                                True  ...         True\n",
              "Pclass                                  True  ...        False\n",
              "Age                                     True  ...         True\n",
              "SibSp                                   True  ...        False\n",
              "Parch                                   True  ...        False\n",
              "Fare                                    True  ...        False\n",
              "Family_Size                             True  ...        False\n",
              "Sex_Numeric                             True  ...         True\n",
              "Embarked_C                              True  ...         True\n",
              "Embarked_Q                              True  ...         True\n",
              "Embarked_S                              True  ...        False\n",
              "Fare_Category_(-0.001, 7.854]           True  ...         True\n",
              "Fare_Category_(10.5, 21.558]            True  ...         True\n",
              "Fare_Category_(21.558, 41.579]          True  ...        False\n",
              "Fare_Category_(41.579, 512.329]         True  ...        False\n",
              "Fare_Category_(7.854, 10.5]             True  ...         True\n",
              "Age_Category_(-0.08, 16.0]              True  ...        False\n",
              "Age_Category_(16.0, 32.0]               True  ...         True\n",
              "Age_Category_(32.0, 48.0]               True  ...         True\n",
              "Age_Category_(48.0, 64.0]               True  ...         True\n",
              "Age_Category_(64.0, 80.0]               True  ...         True\n",
              "Sex_Numeric                             True  ...         True\n",
              "Family_Size                             True  ...        False\n",
              "\n",
              "[24 rows x 24 columns]"
            ]
          },
          "metadata": {
            "tags": []
          },
          "execution_count": 17
        }
      ]
    },
    {
      "cell_type": "code",
      "metadata": {
        "id": "eA0VN4aKx6hK",
        "outputId": "b6c3057f-e9d6-43e4-a13b-4b4c1f7e18af",
        "colab": {
          "base_uri": "https://localhost:8080/"
        }
      },
      "source": [
        "unimportant = (Correlation_Matrix < 0.05)\n",
        "print(unimportant)"
      ],
      "execution_count": null,
      "outputs": [
        {
          "output_type": "stream",
          "text": [
            "                                 PassengerId  ...  Family_Size\n",
            "PassengerId                            False  ...         True\n",
            "Survived                                True  ...         True\n",
            "Pclass                                  True  ...        False\n",
            "Age                                     True  ...         True\n",
            "SibSp                                   True  ...        False\n",
            "Parch                                   True  ...        False\n",
            "Fare                                    True  ...        False\n",
            "Family_Size                             True  ...        False\n",
            "Sex_Numeric                             True  ...         True\n",
            "Embarked_C                              True  ...         True\n",
            "Embarked_Q                              True  ...         True\n",
            "Embarked_S                              True  ...        False\n",
            "Fare_Category_(-0.001, 7.854]           True  ...         True\n",
            "Fare_Category_(10.5, 21.558]            True  ...         True\n",
            "Fare_Category_(21.558, 41.579]          True  ...        False\n",
            "Fare_Category_(41.579, 512.329]         True  ...        False\n",
            "Fare_Category_(7.854, 10.5]             True  ...         True\n",
            "Age_Category_(-0.08, 16.0]              True  ...        False\n",
            "Age_Category_(16.0, 32.0]               True  ...         True\n",
            "Age_Category_(32.0, 48.0]               True  ...         True\n",
            "Age_Category_(48.0, 64.0]               True  ...         True\n",
            "Age_Category_(64.0, 80.0]               True  ...         True\n",
            "Sex_Numeric                             True  ...         True\n",
            "Family_Size                             True  ...        False\n",
            "\n",
            "[24 rows x 24 columns]\n"
          ],
          "name": "stdout"
        }
      ]
    },
    {
      "cell_type": "markdown",
      "metadata": {
        "id": "-ciB4diY0XlJ"
      },
      "source": [
        "### 5) c) Based on the correlation matrix results, identify some of the features as unimportant and drop them and assign the remaining DataFrame to the variable named 'important_data'. When you drop features, leave at least 10 columns besides 'Survivided' in the 'important_data' DataFrame. After that, check the correlation to 'Survived' as you did before."
      ]
    },
    {
      "cell_type": "code",
      "metadata": {
        "id": "E4tVT3qYlgVR"
      },
      "source": [
        "all_data.drop(columns=['SibSp','Parch', 'Embarked'], inplace=True)\n",
        "important_data = all_data \n"
      ],
      "execution_count": null,
      "outputs": []
    },
    {
      "cell_type": "code",
      "metadata": {
        "id": "b6HDzJ9yAu2s",
        "outputId": "14e116c0-d85a-4f92-d487-caa0dcbb5199",
        "colab": {
          "base_uri": "https://localhost:8080/",
          "height": 881
        }
      },
      "source": [
        "important_data"
      ],
      "execution_count": null,
      "outputs": [
        {
          "output_type": "execute_result",
          "data": {
            "text/html": [
              "<div>\n",
              "<style scoped>\n",
              "    .dataframe tbody tr th:only-of-type {\n",
              "        vertical-align: middle;\n",
              "    }\n",
              "\n",
              "    .dataframe tbody tr th {\n",
              "        vertical-align: top;\n",
              "    }\n",
              "\n",
              "    .dataframe thead th {\n",
              "        text-align: right;\n",
              "    }\n",
              "</style>\n",
              "<table border=\"1\" class=\"dataframe\">\n",
              "  <thead>\n",
              "    <tr style=\"text-align: right;\">\n",
              "      <th></th>\n",
              "      <th>PassengerId</th>\n",
              "      <th>Survived</th>\n",
              "      <th>Pclass</th>\n",
              "      <th>Name</th>\n",
              "      <th>Sex</th>\n",
              "      <th>Age</th>\n",
              "      <th>Ticket</th>\n",
              "      <th>Fare</th>\n",
              "      <th>Cabin</th>\n",
              "      <th>Family_Size</th>\n",
              "      <th>Fare_Category</th>\n",
              "      <th>Age_Category</th>\n",
              "      <th>Sex_Numeric</th>\n",
              "      <th>Embarked_C</th>\n",
              "      <th>Embarked_Q</th>\n",
              "      <th>Embarked_S</th>\n",
              "      <th>Fare_Category_(-0.001, 7.854]</th>\n",
              "      <th>Fare_Category_(10.5, 21.558]</th>\n",
              "      <th>Fare_Category_(21.558, 41.579]</th>\n",
              "      <th>Fare_Category_(41.579, 512.329]</th>\n",
              "      <th>Fare_Category_(7.854, 10.5]</th>\n",
              "      <th>Age_Category_(-0.08, 16.0]</th>\n",
              "      <th>Age_Category_(16.0, 32.0]</th>\n",
              "      <th>Age_Category_(32.0, 48.0]</th>\n",
              "      <th>Age_Category_(48.0, 64.0]</th>\n",
              "      <th>Age_Category_(64.0, 80.0]</th>\n",
              "      <th>Sex_Numeric</th>\n",
              "      <th>Family_Size</th>\n",
              "    </tr>\n",
              "  </thead>\n",
              "  <tbody>\n",
              "    <tr>\n",
              "      <th>0</th>\n",
              "      <td>1</td>\n",
              "      <td>0.0</td>\n",
              "      <td>3</td>\n",
              "      <td>Braund, Mr. Owen Harris</td>\n",
              "      <td>male</td>\n",
              "      <td>22.0</td>\n",
              "      <td>A/5 21171</td>\n",
              "      <td>7.2500</td>\n",
              "      <td>NA</td>\n",
              "      <td>2</td>\n",
              "      <td>(-0.001, 7.854]</td>\n",
              "      <td>(16.0, 32.0]</td>\n",
              "      <td>1</td>\n",
              "      <td>0.0</td>\n",
              "      <td>0.0</td>\n",
              "      <td>1.0</td>\n",
              "      <td>1.0</td>\n",
              "      <td>0.0</td>\n",
              "      <td>0.0</td>\n",
              "      <td>0.0</td>\n",
              "      <td>0.0</td>\n",
              "      <td>0.0</td>\n",
              "      <td>1.0</td>\n",
              "      <td>0.0</td>\n",
              "      <td>0.0</td>\n",
              "      <td>0.0</td>\n",
              "      <td>1.0</td>\n",
              "      <td>2.0</td>\n",
              "    </tr>\n",
              "    <tr>\n",
              "      <th>1</th>\n",
              "      <td>2</td>\n",
              "      <td>1.0</td>\n",
              "      <td>1</td>\n",
              "      <td>Cumings, Mrs. John Bradley (Florence Briggs Th...</td>\n",
              "      <td>female</td>\n",
              "      <td>38.0</td>\n",
              "      <td>PC 17599</td>\n",
              "      <td>71.2833</td>\n",
              "      <td>C85</td>\n",
              "      <td>2</td>\n",
              "      <td>(41.579, 512.329]</td>\n",
              "      <td>(32.0, 48.0]</td>\n",
              "      <td>0</td>\n",
              "      <td>1.0</td>\n",
              "      <td>0.0</td>\n",
              "      <td>0.0</td>\n",
              "      <td>0.0</td>\n",
              "      <td>0.0</td>\n",
              "      <td>0.0</td>\n",
              "      <td>1.0</td>\n",
              "      <td>0.0</td>\n",
              "      <td>0.0</td>\n",
              "      <td>0.0</td>\n",
              "      <td>1.0</td>\n",
              "      <td>0.0</td>\n",
              "      <td>0.0</td>\n",
              "      <td>0.0</td>\n",
              "      <td>2.0</td>\n",
              "    </tr>\n",
              "    <tr>\n",
              "      <th>2</th>\n",
              "      <td>3</td>\n",
              "      <td>1.0</td>\n",
              "      <td>3</td>\n",
              "      <td>Heikkinen, Miss. Laina</td>\n",
              "      <td>female</td>\n",
              "      <td>26.0</td>\n",
              "      <td>STON/O2. 3101282</td>\n",
              "      <td>7.9250</td>\n",
              "      <td>NA</td>\n",
              "      <td>1</td>\n",
              "      <td>(7.854, 10.5]</td>\n",
              "      <td>(16.0, 32.0]</td>\n",
              "      <td>0</td>\n",
              "      <td>0.0</td>\n",
              "      <td>0.0</td>\n",
              "      <td>1.0</td>\n",
              "      <td>0.0</td>\n",
              "      <td>0.0</td>\n",
              "      <td>0.0</td>\n",
              "      <td>0.0</td>\n",
              "      <td>1.0</td>\n",
              "      <td>0.0</td>\n",
              "      <td>1.0</td>\n",
              "      <td>0.0</td>\n",
              "      <td>0.0</td>\n",
              "      <td>0.0</td>\n",
              "      <td>0.0</td>\n",
              "      <td>1.0</td>\n",
              "    </tr>\n",
              "    <tr>\n",
              "      <th>3</th>\n",
              "      <td>4</td>\n",
              "      <td>1.0</td>\n",
              "      <td>1</td>\n",
              "      <td>Futrelle, Mrs. Jacques Heath (Lily May Peel)</td>\n",
              "      <td>female</td>\n",
              "      <td>35.0</td>\n",
              "      <td>113803</td>\n",
              "      <td>53.1000</td>\n",
              "      <td>C123</td>\n",
              "      <td>2</td>\n",
              "      <td>(41.579, 512.329]</td>\n",
              "      <td>(32.0, 48.0]</td>\n",
              "      <td>0</td>\n",
              "      <td>0.0</td>\n",
              "      <td>0.0</td>\n",
              "      <td>1.0</td>\n",
              "      <td>0.0</td>\n",
              "      <td>0.0</td>\n",
              "      <td>0.0</td>\n",
              "      <td>1.0</td>\n",
              "      <td>0.0</td>\n",
              "      <td>0.0</td>\n",
              "      <td>0.0</td>\n",
              "      <td>1.0</td>\n",
              "      <td>0.0</td>\n",
              "      <td>0.0</td>\n",
              "      <td>0.0</td>\n",
              "      <td>2.0</td>\n",
              "    </tr>\n",
              "    <tr>\n",
              "      <th>4</th>\n",
              "      <td>5</td>\n",
              "      <td>0.0</td>\n",
              "      <td>3</td>\n",
              "      <td>Allen, Mr. William Henry</td>\n",
              "      <td>male</td>\n",
              "      <td>35.0</td>\n",
              "      <td>373450</td>\n",
              "      <td>8.0500</td>\n",
              "      <td>NA</td>\n",
              "      <td>1</td>\n",
              "      <td>(7.854, 10.5]</td>\n",
              "      <td>(32.0, 48.0]</td>\n",
              "      <td>1</td>\n",
              "      <td>0.0</td>\n",
              "      <td>0.0</td>\n",
              "      <td>1.0</td>\n",
              "      <td>0.0</td>\n",
              "      <td>0.0</td>\n",
              "      <td>0.0</td>\n",
              "      <td>0.0</td>\n",
              "      <td>1.0</td>\n",
              "      <td>0.0</td>\n",
              "      <td>0.0</td>\n",
              "      <td>1.0</td>\n",
              "      <td>0.0</td>\n",
              "      <td>0.0</td>\n",
              "      <td>1.0</td>\n",
              "      <td>1.0</td>\n",
              "    </tr>\n",
              "    <tr>\n",
              "      <th>...</th>\n",
              "      <td>...</td>\n",
              "      <td>...</td>\n",
              "      <td>...</td>\n",
              "      <td>...</td>\n",
              "      <td>...</td>\n",
              "      <td>...</td>\n",
              "      <td>...</td>\n",
              "      <td>...</td>\n",
              "      <td>...</td>\n",
              "      <td>...</td>\n",
              "      <td>...</td>\n",
              "      <td>...</td>\n",
              "      <td>...</td>\n",
              "      <td>...</td>\n",
              "      <td>...</td>\n",
              "      <td>...</td>\n",
              "      <td>...</td>\n",
              "      <td>...</td>\n",
              "      <td>...</td>\n",
              "      <td>...</td>\n",
              "      <td>...</td>\n",
              "      <td>...</td>\n",
              "      <td>...</td>\n",
              "      <td>...</td>\n",
              "      <td>...</td>\n",
              "      <td>...</td>\n",
              "      <td>...</td>\n",
              "      <td>...</td>\n",
              "    </tr>\n",
              "    <tr>\n",
              "      <th>1304</th>\n",
              "      <td>1305</td>\n",
              "      <td>NaN</td>\n",
              "      <td>3</td>\n",
              "      <td>Spector, Mr. Woolf</td>\n",
              "      <td>male</td>\n",
              "      <td>25.0</td>\n",
              "      <td>A.5. 3236</td>\n",
              "      <td>8.0500</td>\n",
              "      <td>NA</td>\n",
              "      <td>1</td>\n",
              "      <td>(7.854, 10.5]</td>\n",
              "      <td>(16.0, 32.0]</td>\n",
              "      <td>1</td>\n",
              "      <td>0.0</td>\n",
              "      <td>0.0</td>\n",
              "      <td>1.0</td>\n",
              "      <td>0.0</td>\n",
              "      <td>0.0</td>\n",
              "      <td>0.0</td>\n",
              "      <td>0.0</td>\n",
              "      <td>1.0</td>\n",
              "      <td>0.0</td>\n",
              "      <td>1.0</td>\n",
              "      <td>0.0</td>\n",
              "      <td>0.0</td>\n",
              "      <td>0.0</td>\n",
              "      <td>1.0</td>\n",
              "      <td>1.0</td>\n",
              "    </tr>\n",
              "    <tr>\n",
              "      <th>1305</th>\n",
              "      <td>1306</td>\n",
              "      <td>NaN</td>\n",
              "      <td>1</td>\n",
              "      <td>Oliva y Ocana, Dona. Fermina</td>\n",
              "      <td>female</td>\n",
              "      <td>39.0</td>\n",
              "      <td>PC 17758</td>\n",
              "      <td>108.9000</td>\n",
              "      <td>C105</td>\n",
              "      <td>1</td>\n",
              "      <td>(41.579, 512.329]</td>\n",
              "      <td>(32.0, 48.0]</td>\n",
              "      <td>0</td>\n",
              "      <td>1.0</td>\n",
              "      <td>0.0</td>\n",
              "      <td>0.0</td>\n",
              "      <td>0.0</td>\n",
              "      <td>0.0</td>\n",
              "      <td>0.0</td>\n",
              "      <td>1.0</td>\n",
              "      <td>0.0</td>\n",
              "      <td>0.0</td>\n",
              "      <td>0.0</td>\n",
              "      <td>1.0</td>\n",
              "      <td>0.0</td>\n",
              "      <td>0.0</td>\n",
              "      <td>0.0</td>\n",
              "      <td>1.0</td>\n",
              "    </tr>\n",
              "    <tr>\n",
              "      <th>1306</th>\n",
              "      <td>1307</td>\n",
              "      <td>NaN</td>\n",
              "      <td>3</td>\n",
              "      <td>Saether, Mr. Simon Sivertsen</td>\n",
              "      <td>male</td>\n",
              "      <td>38.5</td>\n",
              "      <td>SOTON/O.Q. 3101262</td>\n",
              "      <td>7.2500</td>\n",
              "      <td>NA</td>\n",
              "      <td>1</td>\n",
              "      <td>(-0.001, 7.854]</td>\n",
              "      <td>(32.0, 48.0]</td>\n",
              "      <td>1</td>\n",
              "      <td>0.0</td>\n",
              "      <td>0.0</td>\n",
              "      <td>1.0</td>\n",
              "      <td>1.0</td>\n",
              "      <td>0.0</td>\n",
              "      <td>0.0</td>\n",
              "      <td>0.0</td>\n",
              "      <td>0.0</td>\n",
              "      <td>0.0</td>\n",
              "      <td>0.0</td>\n",
              "      <td>1.0</td>\n",
              "      <td>0.0</td>\n",
              "      <td>0.0</td>\n",
              "      <td>1.0</td>\n",
              "      <td>1.0</td>\n",
              "    </tr>\n",
              "    <tr>\n",
              "      <th>1307</th>\n",
              "      <td>1308</td>\n",
              "      <td>NaN</td>\n",
              "      <td>3</td>\n",
              "      <td>Ware, Mr. Frederick</td>\n",
              "      <td>male</td>\n",
              "      <td>25.0</td>\n",
              "      <td>359309</td>\n",
              "      <td>8.0500</td>\n",
              "      <td>NA</td>\n",
              "      <td>1</td>\n",
              "      <td>(7.854, 10.5]</td>\n",
              "      <td>(16.0, 32.0]</td>\n",
              "      <td>1</td>\n",
              "      <td>0.0</td>\n",
              "      <td>0.0</td>\n",
              "      <td>1.0</td>\n",
              "      <td>0.0</td>\n",
              "      <td>0.0</td>\n",
              "      <td>0.0</td>\n",
              "      <td>0.0</td>\n",
              "      <td>1.0</td>\n",
              "      <td>0.0</td>\n",
              "      <td>1.0</td>\n",
              "      <td>0.0</td>\n",
              "      <td>0.0</td>\n",
              "      <td>0.0</td>\n",
              "      <td>1.0</td>\n",
              "      <td>1.0</td>\n",
              "    </tr>\n",
              "    <tr>\n",
              "      <th>1308</th>\n",
              "      <td>1309</td>\n",
              "      <td>NaN</td>\n",
              "      <td>3</td>\n",
              "      <td>Peter, Master. Michael J</td>\n",
              "      <td>male</td>\n",
              "      <td>25.0</td>\n",
              "      <td>2668</td>\n",
              "      <td>22.3583</td>\n",
              "      <td>NA</td>\n",
              "      <td>3</td>\n",
              "      <td>(21.558, 41.579]</td>\n",
              "      <td>(16.0, 32.0]</td>\n",
              "      <td>1</td>\n",
              "      <td>1.0</td>\n",
              "      <td>0.0</td>\n",
              "      <td>0.0</td>\n",
              "      <td>0.0</td>\n",
              "      <td>0.0</td>\n",
              "      <td>1.0</td>\n",
              "      <td>0.0</td>\n",
              "      <td>0.0</td>\n",
              "      <td>0.0</td>\n",
              "      <td>1.0</td>\n",
              "      <td>0.0</td>\n",
              "      <td>0.0</td>\n",
              "      <td>0.0</td>\n",
              "      <td>1.0</td>\n",
              "      <td>3.0</td>\n",
              "    </tr>\n",
              "  </tbody>\n",
              "</table>\n",
              "<p>1309 rows × 28 columns</p>\n",
              "</div>"
            ],
            "text/plain": [
              "      PassengerId  Survived  ...  Sex_Numeric Family_Size\n",
              "0               1       0.0  ...          1.0         2.0\n",
              "1               2       1.0  ...          0.0         2.0\n",
              "2               3       1.0  ...          0.0         1.0\n",
              "3               4       1.0  ...          0.0         2.0\n",
              "4               5       0.0  ...          1.0         1.0\n",
              "...           ...       ...  ...          ...         ...\n",
              "1304         1305       NaN  ...          1.0         1.0\n",
              "1305         1306       NaN  ...          0.0         1.0\n",
              "1306         1307       NaN  ...          1.0         1.0\n",
              "1307         1308       NaN  ...          1.0         1.0\n",
              "1308         1309       NaN  ...          1.0         3.0\n",
              "\n",
              "[1309 rows x 28 columns]"
            ]
          },
          "metadata": {
            "tags": []
          },
          "execution_count": 20
        }
      ]
    },
    {
      "cell_type": "code",
      "metadata": {
        "id": "EKfbrCDGDh9y",
        "outputId": "dc9402fc-da6f-4bce-aa49-f291613c34c0",
        "colab": {
          "base_uri": "https://localhost:8080/"
        }
      },
      "source": [
        "corr_important_matrix = important_data.corr()\n",
        "corr_important_matrix[\"Survived\"].sort_values(ascending=False)"
      ],
      "execution_count": null,
      "outputs": [
        {
          "output_type": "execute_result",
          "data": {
            "text/plain": [
              "Survived                           1.000000\n",
              "Fare_Category_(41.579, 512.329]    0.263007\n",
              "Fare                               0.257307\n",
              "Embarked_C                         0.168240\n",
              "Age_Category_(-0.08, 16.0]         0.121485\n",
              "Fare_Category_(21.558, 41.579]     0.062529\n",
              "Fare_Category_(10.5, 21.558]       0.043153\n",
              "Age_Category_(32.0, 48.0]          0.032801\n",
              "Age_Category_(48.0, 64.0]          0.030350\n",
              "Family_Size                        0.016639\n",
              "Family_Size                        0.016639\n",
              "Embarked_Q                         0.003650\n",
              "PassengerId                       -0.005007\n",
              "Age                               -0.058635\n",
              "Age_Category_(64.0, 80.0]         -0.067344\n",
              "Age_Category_(16.0, 32.0]         -0.106821\n",
              "Embarked_S                        -0.149683\n",
              "Fare_Category_(-0.001, 7.854]     -0.171109\n",
              "Fare_Category_(7.854, 10.5]       -0.191707\n",
              "Pclass                            -0.338481\n",
              "Sex_Numeric                       -0.543351\n",
              "Sex_Numeric                       -0.543351\n",
              "Name: Survived, dtype: float64"
            ]
          },
          "metadata": {
            "tags": []
          },
          "execution_count": 21
        }
      ]
    },
    {
      "cell_type": "markdown",
      "metadata": {
        "id": "_btsihESme0v"
      },
      "source": [
        "### 5) d) Create X_train, Y_train and X_test DataFrames. Note that X_train should 891 instances and the rest should go to X_test. Drop the 'Survived' from X_test. Check the X_train, X_test and Y_train."
      ]
    },
    {
      "cell_type": "code",
      "metadata": {
        "id": "cHt8_9x1lj0e"
      },
      "source": [
        "X_train = all_data[0:891]\n",
        "X_test = all_data[891:1309]\n",
        "\n",
        "Updated_X_train = X_train.drop('Survived', axis =1)\n",
        "Y_train = X_train['Survived']"
      ],
      "execution_count": null,
      "outputs": []
    },
    {
      "cell_type": "code",
      "metadata": {
        "id": "8LoYqPQrHSYf",
        "outputId": "f40097cf-ddfa-4a14-b93f-306b8f9c71d1",
        "colab": {
          "base_uri": "https://localhost:8080/",
          "height": 949
        }
      },
      "source": [
        "Updated_X_train"
      ],
      "execution_count": null,
      "outputs": [
        {
          "output_type": "execute_result",
          "data": {
            "text/html": [
              "<div>\n",
              "<style scoped>\n",
              "    .dataframe tbody tr th:only-of-type {\n",
              "        vertical-align: middle;\n",
              "    }\n",
              "\n",
              "    .dataframe tbody tr th {\n",
              "        vertical-align: top;\n",
              "    }\n",
              "\n",
              "    .dataframe thead th {\n",
              "        text-align: right;\n",
              "    }\n",
              "</style>\n",
              "<table border=\"1\" class=\"dataframe\">\n",
              "  <thead>\n",
              "    <tr style=\"text-align: right;\">\n",
              "      <th></th>\n",
              "      <th>PassengerId</th>\n",
              "      <th>Pclass</th>\n",
              "      <th>Name</th>\n",
              "      <th>Sex</th>\n",
              "      <th>Age</th>\n",
              "      <th>Ticket</th>\n",
              "      <th>Fare</th>\n",
              "      <th>Cabin</th>\n",
              "      <th>Family_Size</th>\n",
              "      <th>Fare_Category</th>\n",
              "      <th>Age_Category</th>\n",
              "      <th>Sex_Numeric</th>\n",
              "      <th>Embarked_C</th>\n",
              "      <th>Embarked_Q</th>\n",
              "      <th>Embarked_S</th>\n",
              "      <th>Fare_Category_(-0.001, 7.854]</th>\n",
              "      <th>Fare_Category_(10.5, 21.558]</th>\n",
              "      <th>Fare_Category_(21.558, 41.579]</th>\n",
              "      <th>Fare_Category_(41.579, 512.329]</th>\n",
              "      <th>Fare_Category_(7.854, 10.5]</th>\n",
              "      <th>Age_Category_(-0.08, 16.0]</th>\n",
              "      <th>Age_Category_(16.0, 32.0]</th>\n",
              "      <th>Age_Category_(32.0, 48.0]</th>\n",
              "      <th>Age_Category_(48.0, 64.0]</th>\n",
              "      <th>Age_Category_(64.0, 80.0]</th>\n",
              "      <th>Sex_Numeric</th>\n",
              "      <th>Family_Size</th>\n",
              "    </tr>\n",
              "  </thead>\n",
              "  <tbody>\n",
              "    <tr>\n",
              "      <th>0</th>\n",
              "      <td>1</td>\n",
              "      <td>3</td>\n",
              "      <td>Braund, Mr. Owen Harris</td>\n",
              "      <td>male</td>\n",
              "      <td>22.0</td>\n",
              "      <td>A/5 21171</td>\n",
              "      <td>7.2500</td>\n",
              "      <td>NA</td>\n",
              "      <td>2</td>\n",
              "      <td>(-0.001, 7.854]</td>\n",
              "      <td>(16.0, 32.0]</td>\n",
              "      <td>1</td>\n",
              "      <td>0.0</td>\n",
              "      <td>0.0</td>\n",
              "      <td>1.0</td>\n",
              "      <td>1.0</td>\n",
              "      <td>0.0</td>\n",
              "      <td>0.0</td>\n",
              "      <td>0.0</td>\n",
              "      <td>0.0</td>\n",
              "      <td>0.0</td>\n",
              "      <td>1.0</td>\n",
              "      <td>0.0</td>\n",
              "      <td>0.0</td>\n",
              "      <td>0.0</td>\n",
              "      <td>1.0</td>\n",
              "      <td>2.0</td>\n",
              "    </tr>\n",
              "    <tr>\n",
              "      <th>1</th>\n",
              "      <td>2</td>\n",
              "      <td>1</td>\n",
              "      <td>Cumings, Mrs. John Bradley (Florence Briggs Th...</td>\n",
              "      <td>female</td>\n",
              "      <td>38.0</td>\n",
              "      <td>PC 17599</td>\n",
              "      <td>71.2833</td>\n",
              "      <td>C85</td>\n",
              "      <td>2</td>\n",
              "      <td>(41.579, 512.329]</td>\n",
              "      <td>(32.0, 48.0]</td>\n",
              "      <td>0</td>\n",
              "      <td>1.0</td>\n",
              "      <td>0.0</td>\n",
              "      <td>0.0</td>\n",
              "      <td>0.0</td>\n",
              "      <td>0.0</td>\n",
              "      <td>0.0</td>\n",
              "      <td>1.0</td>\n",
              "      <td>0.0</td>\n",
              "      <td>0.0</td>\n",
              "      <td>0.0</td>\n",
              "      <td>1.0</td>\n",
              "      <td>0.0</td>\n",
              "      <td>0.0</td>\n",
              "      <td>0.0</td>\n",
              "      <td>2.0</td>\n",
              "    </tr>\n",
              "    <tr>\n",
              "      <th>2</th>\n",
              "      <td>3</td>\n",
              "      <td>3</td>\n",
              "      <td>Heikkinen, Miss. Laina</td>\n",
              "      <td>female</td>\n",
              "      <td>26.0</td>\n",
              "      <td>STON/O2. 3101282</td>\n",
              "      <td>7.9250</td>\n",
              "      <td>NA</td>\n",
              "      <td>1</td>\n",
              "      <td>(7.854, 10.5]</td>\n",
              "      <td>(16.0, 32.0]</td>\n",
              "      <td>0</td>\n",
              "      <td>0.0</td>\n",
              "      <td>0.0</td>\n",
              "      <td>1.0</td>\n",
              "      <td>0.0</td>\n",
              "      <td>0.0</td>\n",
              "      <td>0.0</td>\n",
              "      <td>0.0</td>\n",
              "      <td>1.0</td>\n",
              "      <td>0.0</td>\n",
              "      <td>1.0</td>\n",
              "      <td>0.0</td>\n",
              "      <td>0.0</td>\n",
              "      <td>0.0</td>\n",
              "      <td>0.0</td>\n",
              "      <td>1.0</td>\n",
              "    </tr>\n",
              "    <tr>\n",
              "      <th>3</th>\n",
              "      <td>4</td>\n",
              "      <td>1</td>\n",
              "      <td>Futrelle, Mrs. Jacques Heath (Lily May Peel)</td>\n",
              "      <td>female</td>\n",
              "      <td>35.0</td>\n",
              "      <td>113803</td>\n",
              "      <td>53.1000</td>\n",
              "      <td>C123</td>\n",
              "      <td>2</td>\n",
              "      <td>(41.579, 512.329]</td>\n",
              "      <td>(32.0, 48.0]</td>\n",
              "      <td>0</td>\n",
              "      <td>0.0</td>\n",
              "      <td>0.0</td>\n",
              "      <td>1.0</td>\n",
              "      <td>0.0</td>\n",
              "      <td>0.0</td>\n",
              "      <td>0.0</td>\n",
              "      <td>1.0</td>\n",
              "      <td>0.0</td>\n",
              "      <td>0.0</td>\n",
              "      <td>0.0</td>\n",
              "      <td>1.0</td>\n",
              "      <td>0.0</td>\n",
              "      <td>0.0</td>\n",
              "      <td>0.0</td>\n",
              "      <td>2.0</td>\n",
              "    </tr>\n",
              "    <tr>\n",
              "      <th>4</th>\n",
              "      <td>5</td>\n",
              "      <td>3</td>\n",
              "      <td>Allen, Mr. William Henry</td>\n",
              "      <td>male</td>\n",
              "      <td>35.0</td>\n",
              "      <td>373450</td>\n",
              "      <td>8.0500</td>\n",
              "      <td>NA</td>\n",
              "      <td>1</td>\n",
              "      <td>(7.854, 10.5]</td>\n",
              "      <td>(32.0, 48.0]</td>\n",
              "      <td>1</td>\n",
              "      <td>0.0</td>\n",
              "      <td>0.0</td>\n",
              "      <td>1.0</td>\n",
              "      <td>0.0</td>\n",
              "      <td>0.0</td>\n",
              "      <td>0.0</td>\n",
              "      <td>0.0</td>\n",
              "      <td>1.0</td>\n",
              "      <td>0.0</td>\n",
              "      <td>0.0</td>\n",
              "      <td>1.0</td>\n",
              "      <td>0.0</td>\n",
              "      <td>0.0</td>\n",
              "      <td>1.0</td>\n",
              "      <td>1.0</td>\n",
              "    </tr>\n",
              "    <tr>\n",
              "      <th>...</th>\n",
              "      <td>...</td>\n",
              "      <td>...</td>\n",
              "      <td>...</td>\n",
              "      <td>...</td>\n",
              "      <td>...</td>\n",
              "      <td>...</td>\n",
              "      <td>...</td>\n",
              "      <td>...</td>\n",
              "      <td>...</td>\n",
              "      <td>...</td>\n",
              "      <td>...</td>\n",
              "      <td>...</td>\n",
              "      <td>...</td>\n",
              "      <td>...</td>\n",
              "      <td>...</td>\n",
              "      <td>...</td>\n",
              "      <td>...</td>\n",
              "      <td>...</td>\n",
              "      <td>...</td>\n",
              "      <td>...</td>\n",
              "      <td>...</td>\n",
              "      <td>...</td>\n",
              "      <td>...</td>\n",
              "      <td>...</td>\n",
              "      <td>...</td>\n",
              "      <td>...</td>\n",
              "      <td>...</td>\n",
              "    </tr>\n",
              "    <tr>\n",
              "      <th>886</th>\n",
              "      <td>887</td>\n",
              "      <td>2</td>\n",
              "      <td>Montvila, Rev. Juozas</td>\n",
              "      <td>male</td>\n",
              "      <td>27.0</td>\n",
              "      <td>211536</td>\n",
              "      <td>13.0000</td>\n",
              "      <td>NA</td>\n",
              "      <td>1</td>\n",
              "      <td>(10.5, 21.558]</td>\n",
              "      <td>(16.0, 32.0]</td>\n",
              "      <td>1</td>\n",
              "      <td>0.0</td>\n",
              "      <td>0.0</td>\n",
              "      <td>1.0</td>\n",
              "      <td>0.0</td>\n",
              "      <td>1.0</td>\n",
              "      <td>0.0</td>\n",
              "      <td>0.0</td>\n",
              "      <td>0.0</td>\n",
              "      <td>0.0</td>\n",
              "      <td>1.0</td>\n",
              "      <td>0.0</td>\n",
              "      <td>0.0</td>\n",
              "      <td>0.0</td>\n",
              "      <td>1.0</td>\n",
              "      <td>1.0</td>\n",
              "    </tr>\n",
              "    <tr>\n",
              "      <th>887</th>\n",
              "      <td>888</td>\n",
              "      <td>1</td>\n",
              "      <td>Graham, Miss. Margaret Edith</td>\n",
              "      <td>female</td>\n",
              "      <td>19.0</td>\n",
              "      <td>112053</td>\n",
              "      <td>30.0000</td>\n",
              "      <td>B42</td>\n",
              "      <td>1</td>\n",
              "      <td>(21.558, 41.579]</td>\n",
              "      <td>(16.0, 32.0]</td>\n",
              "      <td>0</td>\n",
              "      <td>0.0</td>\n",
              "      <td>0.0</td>\n",
              "      <td>1.0</td>\n",
              "      <td>0.0</td>\n",
              "      <td>0.0</td>\n",
              "      <td>1.0</td>\n",
              "      <td>0.0</td>\n",
              "      <td>0.0</td>\n",
              "      <td>0.0</td>\n",
              "      <td>1.0</td>\n",
              "      <td>0.0</td>\n",
              "      <td>0.0</td>\n",
              "      <td>0.0</td>\n",
              "      <td>0.0</td>\n",
              "      <td>1.0</td>\n",
              "    </tr>\n",
              "    <tr>\n",
              "      <th>888</th>\n",
              "      <td>889</td>\n",
              "      <td>3</td>\n",
              "      <td>Johnston, Miss. Catherine Helen \"Carrie\"</td>\n",
              "      <td>female</td>\n",
              "      <td>22.0</td>\n",
              "      <td>W./C. 6607</td>\n",
              "      <td>23.4500</td>\n",
              "      <td>NA</td>\n",
              "      <td>4</td>\n",
              "      <td>(21.558, 41.579]</td>\n",
              "      <td>(16.0, 32.0]</td>\n",
              "      <td>0</td>\n",
              "      <td>0.0</td>\n",
              "      <td>0.0</td>\n",
              "      <td>1.0</td>\n",
              "      <td>0.0</td>\n",
              "      <td>0.0</td>\n",
              "      <td>1.0</td>\n",
              "      <td>0.0</td>\n",
              "      <td>0.0</td>\n",
              "      <td>0.0</td>\n",
              "      <td>1.0</td>\n",
              "      <td>0.0</td>\n",
              "      <td>0.0</td>\n",
              "      <td>0.0</td>\n",
              "      <td>0.0</td>\n",
              "      <td>4.0</td>\n",
              "    </tr>\n",
              "    <tr>\n",
              "      <th>889</th>\n",
              "      <td>890</td>\n",
              "      <td>1</td>\n",
              "      <td>Behr, Mr. Karl Howell</td>\n",
              "      <td>male</td>\n",
              "      <td>26.0</td>\n",
              "      <td>111369</td>\n",
              "      <td>30.0000</td>\n",
              "      <td>C148</td>\n",
              "      <td>1</td>\n",
              "      <td>(21.558, 41.579]</td>\n",
              "      <td>(16.0, 32.0]</td>\n",
              "      <td>1</td>\n",
              "      <td>1.0</td>\n",
              "      <td>0.0</td>\n",
              "      <td>0.0</td>\n",
              "      <td>0.0</td>\n",
              "      <td>0.0</td>\n",
              "      <td>1.0</td>\n",
              "      <td>0.0</td>\n",
              "      <td>0.0</td>\n",
              "      <td>0.0</td>\n",
              "      <td>1.0</td>\n",
              "      <td>0.0</td>\n",
              "      <td>0.0</td>\n",
              "      <td>0.0</td>\n",
              "      <td>1.0</td>\n",
              "      <td>1.0</td>\n",
              "    </tr>\n",
              "    <tr>\n",
              "      <th>890</th>\n",
              "      <td>891</td>\n",
              "      <td>3</td>\n",
              "      <td>Dooley, Mr. Patrick</td>\n",
              "      <td>male</td>\n",
              "      <td>32.0</td>\n",
              "      <td>370376</td>\n",
              "      <td>7.7500</td>\n",
              "      <td>NA</td>\n",
              "      <td>1</td>\n",
              "      <td>(-0.001, 7.854]</td>\n",
              "      <td>(16.0, 32.0]</td>\n",
              "      <td>1</td>\n",
              "      <td>0.0</td>\n",
              "      <td>1.0</td>\n",
              "      <td>0.0</td>\n",
              "      <td>1.0</td>\n",
              "      <td>0.0</td>\n",
              "      <td>0.0</td>\n",
              "      <td>0.0</td>\n",
              "      <td>0.0</td>\n",
              "      <td>0.0</td>\n",
              "      <td>1.0</td>\n",
              "      <td>0.0</td>\n",
              "      <td>0.0</td>\n",
              "      <td>0.0</td>\n",
              "      <td>1.0</td>\n",
              "      <td>1.0</td>\n",
              "    </tr>\n",
              "  </tbody>\n",
              "</table>\n",
              "<p>891 rows × 27 columns</p>\n",
              "</div>"
            ],
            "text/plain": [
              "     PassengerId  Pclass  ... Sex_Numeric Family_Size\n",
              "0              1       3  ...         1.0         2.0\n",
              "1              2       1  ...         0.0         2.0\n",
              "2              3       3  ...         0.0         1.0\n",
              "3              4       1  ...         0.0         2.0\n",
              "4              5       3  ...         1.0         1.0\n",
              "..           ...     ...  ...         ...         ...\n",
              "886          887       2  ...         1.0         1.0\n",
              "887          888       1  ...         0.0         1.0\n",
              "888          889       3  ...         0.0         4.0\n",
              "889          890       1  ...         1.0         1.0\n",
              "890          891       3  ...         1.0         1.0\n",
              "\n",
              "[891 rows x 27 columns]"
            ]
          },
          "metadata": {
            "tags": []
          },
          "execution_count": 23
        }
      ]
    },
    {
      "cell_type": "code",
      "metadata": {
        "id": "fvewGoCEHVSf",
        "outputId": "375a39f3-9400-4920-a392-8a311083eebe",
        "colab": {
          "base_uri": "https://localhost:8080/",
          "height": 813
        }
      },
      "source": [
        "X_test"
      ],
      "execution_count": null,
      "outputs": [
        {
          "output_type": "execute_result",
          "data": {
            "text/html": [
              "<div>\n",
              "<style scoped>\n",
              "    .dataframe tbody tr th:only-of-type {\n",
              "        vertical-align: middle;\n",
              "    }\n",
              "\n",
              "    .dataframe tbody tr th {\n",
              "        vertical-align: top;\n",
              "    }\n",
              "\n",
              "    .dataframe thead th {\n",
              "        text-align: right;\n",
              "    }\n",
              "</style>\n",
              "<table border=\"1\" class=\"dataframe\">\n",
              "  <thead>\n",
              "    <tr style=\"text-align: right;\">\n",
              "      <th></th>\n",
              "      <th>PassengerId</th>\n",
              "      <th>Survived</th>\n",
              "      <th>Pclass</th>\n",
              "      <th>Name</th>\n",
              "      <th>Sex</th>\n",
              "      <th>Age</th>\n",
              "      <th>Ticket</th>\n",
              "      <th>Fare</th>\n",
              "      <th>Cabin</th>\n",
              "      <th>Family_Size</th>\n",
              "      <th>Fare_Category</th>\n",
              "      <th>Age_Category</th>\n",
              "      <th>Sex_Numeric</th>\n",
              "      <th>Embarked_C</th>\n",
              "      <th>Embarked_Q</th>\n",
              "      <th>Embarked_S</th>\n",
              "      <th>Fare_Category_(-0.001, 7.854]</th>\n",
              "      <th>Fare_Category_(10.5, 21.558]</th>\n",
              "      <th>Fare_Category_(21.558, 41.579]</th>\n",
              "      <th>Fare_Category_(41.579, 512.329]</th>\n",
              "      <th>Fare_Category_(7.854, 10.5]</th>\n",
              "      <th>Age_Category_(-0.08, 16.0]</th>\n",
              "      <th>Age_Category_(16.0, 32.0]</th>\n",
              "      <th>Age_Category_(32.0, 48.0]</th>\n",
              "      <th>Age_Category_(48.0, 64.0]</th>\n",
              "      <th>Age_Category_(64.0, 80.0]</th>\n",
              "      <th>Sex_Numeric</th>\n",
              "      <th>Family_Size</th>\n",
              "    </tr>\n",
              "  </thead>\n",
              "  <tbody>\n",
              "    <tr>\n",
              "      <th>891</th>\n",
              "      <td>892</td>\n",
              "      <td>NaN</td>\n",
              "      <td>3</td>\n",
              "      <td>Kelly, Mr. James</td>\n",
              "      <td>male</td>\n",
              "      <td>34.5</td>\n",
              "      <td>330911</td>\n",
              "      <td>7.8292</td>\n",
              "      <td>NA</td>\n",
              "      <td>1</td>\n",
              "      <td>(-0.001, 7.854]</td>\n",
              "      <td>(32.0, 48.0]</td>\n",
              "      <td>1</td>\n",
              "      <td>0.0</td>\n",
              "      <td>1.0</td>\n",
              "      <td>0.0</td>\n",
              "      <td>1.0</td>\n",
              "      <td>0.0</td>\n",
              "      <td>0.0</td>\n",
              "      <td>0.0</td>\n",
              "      <td>0.0</td>\n",
              "      <td>0.0</td>\n",
              "      <td>0.0</td>\n",
              "      <td>1.0</td>\n",
              "      <td>0.0</td>\n",
              "      <td>0.0</td>\n",
              "      <td>1.0</td>\n",
              "      <td>1.0</td>\n",
              "    </tr>\n",
              "    <tr>\n",
              "      <th>892</th>\n",
              "      <td>893</td>\n",
              "      <td>NaN</td>\n",
              "      <td>3</td>\n",
              "      <td>Wilkes, Mrs. James (Ellen Needs)</td>\n",
              "      <td>female</td>\n",
              "      <td>47.0</td>\n",
              "      <td>363272</td>\n",
              "      <td>7.0000</td>\n",
              "      <td>NA</td>\n",
              "      <td>2</td>\n",
              "      <td>(-0.001, 7.854]</td>\n",
              "      <td>(32.0, 48.0]</td>\n",
              "      <td>0</td>\n",
              "      <td>0.0</td>\n",
              "      <td>0.0</td>\n",
              "      <td>1.0</td>\n",
              "      <td>1.0</td>\n",
              "      <td>0.0</td>\n",
              "      <td>0.0</td>\n",
              "      <td>0.0</td>\n",
              "      <td>0.0</td>\n",
              "      <td>0.0</td>\n",
              "      <td>0.0</td>\n",
              "      <td>1.0</td>\n",
              "      <td>0.0</td>\n",
              "      <td>0.0</td>\n",
              "      <td>0.0</td>\n",
              "      <td>2.0</td>\n",
              "    </tr>\n",
              "    <tr>\n",
              "      <th>893</th>\n",
              "      <td>894</td>\n",
              "      <td>NaN</td>\n",
              "      <td>2</td>\n",
              "      <td>Myles, Mr. Thomas Francis</td>\n",
              "      <td>male</td>\n",
              "      <td>62.0</td>\n",
              "      <td>240276</td>\n",
              "      <td>9.6875</td>\n",
              "      <td>NA</td>\n",
              "      <td>1</td>\n",
              "      <td>(7.854, 10.5]</td>\n",
              "      <td>(48.0, 64.0]</td>\n",
              "      <td>1</td>\n",
              "      <td>0.0</td>\n",
              "      <td>1.0</td>\n",
              "      <td>0.0</td>\n",
              "      <td>0.0</td>\n",
              "      <td>0.0</td>\n",
              "      <td>0.0</td>\n",
              "      <td>0.0</td>\n",
              "      <td>1.0</td>\n",
              "      <td>0.0</td>\n",
              "      <td>0.0</td>\n",
              "      <td>0.0</td>\n",
              "      <td>1.0</td>\n",
              "      <td>0.0</td>\n",
              "      <td>1.0</td>\n",
              "      <td>1.0</td>\n",
              "    </tr>\n",
              "    <tr>\n",
              "      <th>894</th>\n",
              "      <td>895</td>\n",
              "      <td>NaN</td>\n",
              "      <td>3</td>\n",
              "      <td>Wirz, Mr. Albert</td>\n",
              "      <td>male</td>\n",
              "      <td>27.0</td>\n",
              "      <td>315154</td>\n",
              "      <td>8.6625</td>\n",
              "      <td>NA</td>\n",
              "      <td>1</td>\n",
              "      <td>(7.854, 10.5]</td>\n",
              "      <td>(16.0, 32.0]</td>\n",
              "      <td>1</td>\n",
              "      <td>0.0</td>\n",
              "      <td>0.0</td>\n",
              "      <td>1.0</td>\n",
              "      <td>0.0</td>\n",
              "      <td>0.0</td>\n",
              "      <td>0.0</td>\n",
              "      <td>0.0</td>\n",
              "      <td>1.0</td>\n",
              "      <td>0.0</td>\n",
              "      <td>1.0</td>\n",
              "      <td>0.0</td>\n",
              "      <td>0.0</td>\n",
              "      <td>0.0</td>\n",
              "      <td>1.0</td>\n",
              "      <td>1.0</td>\n",
              "    </tr>\n",
              "    <tr>\n",
              "      <th>895</th>\n",
              "      <td>896</td>\n",
              "      <td>NaN</td>\n",
              "      <td>3</td>\n",
              "      <td>Hirvonen, Mrs. Alexander (Helga E Lindqvist)</td>\n",
              "      <td>female</td>\n",
              "      <td>22.0</td>\n",
              "      <td>3101298</td>\n",
              "      <td>12.2875</td>\n",
              "      <td>NA</td>\n",
              "      <td>3</td>\n",
              "      <td>(10.5, 21.558]</td>\n",
              "      <td>(16.0, 32.0]</td>\n",
              "      <td>0</td>\n",
              "      <td>0.0</td>\n",
              "      <td>0.0</td>\n",
              "      <td>1.0</td>\n",
              "      <td>0.0</td>\n",
              "      <td>1.0</td>\n",
              "      <td>0.0</td>\n",
              "      <td>0.0</td>\n",
              "      <td>0.0</td>\n",
              "      <td>0.0</td>\n",
              "      <td>1.0</td>\n",
              "      <td>0.0</td>\n",
              "      <td>0.0</td>\n",
              "      <td>0.0</td>\n",
              "      <td>0.0</td>\n",
              "      <td>3.0</td>\n",
              "    </tr>\n",
              "    <tr>\n",
              "      <th>...</th>\n",
              "      <td>...</td>\n",
              "      <td>...</td>\n",
              "      <td>...</td>\n",
              "      <td>...</td>\n",
              "      <td>...</td>\n",
              "      <td>...</td>\n",
              "      <td>...</td>\n",
              "      <td>...</td>\n",
              "      <td>...</td>\n",
              "      <td>...</td>\n",
              "      <td>...</td>\n",
              "      <td>...</td>\n",
              "      <td>...</td>\n",
              "      <td>...</td>\n",
              "      <td>...</td>\n",
              "      <td>...</td>\n",
              "      <td>...</td>\n",
              "      <td>...</td>\n",
              "      <td>...</td>\n",
              "      <td>...</td>\n",
              "      <td>...</td>\n",
              "      <td>...</td>\n",
              "      <td>...</td>\n",
              "      <td>...</td>\n",
              "      <td>...</td>\n",
              "      <td>...</td>\n",
              "      <td>...</td>\n",
              "      <td>...</td>\n",
              "    </tr>\n",
              "    <tr>\n",
              "      <th>1304</th>\n",
              "      <td>1305</td>\n",
              "      <td>NaN</td>\n",
              "      <td>3</td>\n",
              "      <td>Spector, Mr. Woolf</td>\n",
              "      <td>male</td>\n",
              "      <td>25.0</td>\n",
              "      <td>A.5. 3236</td>\n",
              "      <td>8.0500</td>\n",
              "      <td>NA</td>\n",
              "      <td>1</td>\n",
              "      <td>(7.854, 10.5]</td>\n",
              "      <td>(16.0, 32.0]</td>\n",
              "      <td>1</td>\n",
              "      <td>0.0</td>\n",
              "      <td>0.0</td>\n",
              "      <td>1.0</td>\n",
              "      <td>0.0</td>\n",
              "      <td>0.0</td>\n",
              "      <td>0.0</td>\n",
              "      <td>0.0</td>\n",
              "      <td>1.0</td>\n",
              "      <td>0.0</td>\n",
              "      <td>1.0</td>\n",
              "      <td>0.0</td>\n",
              "      <td>0.0</td>\n",
              "      <td>0.0</td>\n",
              "      <td>1.0</td>\n",
              "      <td>1.0</td>\n",
              "    </tr>\n",
              "    <tr>\n",
              "      <th>1305</th>\n",
              "      <td>1306</td>\n",
              "      <td>NaN</td>\n",
              "      <td>1</td>\n",
              "      <td>Oliva y Ocana, Dona. Fermina</td>\n",
              "      <td>female</td>\n",
              "      <td>39.0</td>\n",
              "      <td>PC 17758</td>\n",
              "      <td>108.9000</td>\n",
              "      <td>C105</td>\n",
              "      <td>1</td>\n",
              "      <td>(41.579, 512.329]</td>\n",
              "      <td>(32.0, 48.0]</td>\n",
              "      <td>0</td>\n",
              "      <td>1.0</td>\n",
              "      <td>0.0</td>\n",
              "      <td>0.0</td>\n",
              "      <td>0.0</td>\n",
              "      <td>0.0</td>\n",
              "      <td>0.0</td>\n",
              "      <td>1.0</td>\n",
              "      <td>0.0</td>\n",
              "      <td>0.0</td>\n",
              "      <td>0.0</td>\n",
              "      <td>1.0</td>\n",
              "      <td>0.0</td>\n",
              "      <td>0.0</td>\n",
              "      <td>0.0</td>\n",
              "      <td>1.0</td>\n",
              "    </tr>\n",
              "    <tr>\n",
              "      <th>1306</th>\n",
              "      <td>1307</td>\n",
              "      <td>NaN</td>\n",
              "      <td>3</td>\n",
              "      <td>Saether, Mr. Simon Sivertsen</td>\n",
              "      <td>male</td>\n",
              "      <td>38.5</td>\n",
              "      <td>SOTON/O.Q. 3101262</td>\n",
              "      <td>7.2500</td>\n",
              "      <td>NA</td>\n",
              "      <td>1</td>\n",
              "      <td>(-0.001, 7.854]</td>\n",
              "      <td>(32.0, 48.0]</td>\n",
              "      <td>1</td>\n",
              "      <td>0.0</td>\n",
              "      <td>0.0</td>\n",
              "      <td>1.0</td>\n",
              "      <td>1.0</td>\n",
              "      <td>0.0</td>\n",
              "      <td>0.0</td>\n",
              "      <td>0.0</td>\n",
              "      <td>0.0</td>\n",
              "      <td>0.0</td>\n",
              "      <td>0.0</td>\n",
              "      <td>1.0</td>\n",
              "      <td>0.0</td>\n",
              "      <td>0.0</td>\n",
              "      <td>1.0</td>\n",
              "      <td>1.0</td>\n",
              "    </tr>\n",
              "    <tr>\n",
              "      <th>1307</th>\n",
              "      <td>1308</td>\n",
              "      <td>NaN</td>\n",
              "      <td>3</td>\n",
              "      <td>Ware, Mr. Frederick</td>\n",
              "      <td>male</td>\n",
              "      <td>25.0</td>\n",
              "      <td>359309</td>\n",
              "      <td>8.0500</td>\n",
              "      <td>NA</td>\n",
              "      <td>1</td>\n",
              "      <td>(7.854, 10.5]</td>\n",
              "      <td>(16.0, 32.0]</td>\n",
              "      <td>1</td>\n",
              "      <td>0.0</td>\n",
              "      <td>0.0</td>\n",
              "      <td>1.0</td>\n",
              "      <td>0.0</td>\n",
              "      <td>0.0</td>\n",
              "      <td>0.0</td>\n",
              "      <td>0.0</td>\n",
              "      <td>1.0</td>\n",
              "      <td>0.0</td>\n",
              "      <td>1.0</td>\n",
              "      <td>0.0</td>\n",
              "      <td>0.0</td>\n",
              "      <td>0.0</td>\n",
              "      <td>1.0</td>\n",
              "      <td>1.0</td>\n",
              "    </tr>\n",
              "    <tr>\n",
              "      <th>1308</th>\n",
              "      <td>1309</td>\n",
              "      <td>NaN</td>\n",
              "      <td>3</td>\n",
              "      <td>Peter, Master. Michael J</td>\n",
              "      <td>male</td>\n",
              "      <td>25.0</td>\n",
              "      <td>2668</td>\n",
              "      <td>22.3583</td>\n",
              "      <td>NA</td>\n",
              "      <td>3</td>\n",
              "      <td>(21.558, 41.579]</td>\n",
              "      <td>(16.0, 32.0]</td>\n",
              "      <td>1</td>\n",
              "      <td>1.0</td>\n",
              "      <td>0.0</td>\n",
              "      <td>0.0</td>\n",
              "      <td>0.0</td>\n",
              "      <td>0.0</td>\n",
              "      <td>1.0</td>\n",
              "      <td>0.0</td>\n",
              "      <td>0.0</td>\n",
              "      <td>0.0</td>\n",
              "      <td>1.0</td>\n",
              "      <td>0.0</td>\n",
              "      <td>0.0</td>\n",
              "      <td>0.0</td>\n",
              "      <td>1.0</td>\n",
              "      <td>3.0</td>\n",
              "    </tr>\n",
              "  </tbody>\n",
              "</table>\n",
              "<p>418 rows × 28 columns</p>\n",
              "</div>"
            ],
            "text/plain": [
              "      PassengerId  Survived  ...  Sex_Numeric Family_Size\n",
              "891           892       NaN  ...          1.0         1.0\n",
              "892           893       NaN  ...          0.0         2.0\n",
              "893           894       NaN  ...          1.0         1.0\n",
              "894           895       NaN  ...          1.0         1.0\n",
              "895           896       NaN  ...          0.0         3.0\n",
              "...           ...       ...  ...          ...         ...\n",
              "1304         1305       NaN  ...          1.0         1.0\n",
              "1305         1306       NaN  ...          0.0         1.0\n",
              "1306         1307       NaN  ...          1.0         1.0\n",
              "1307         1308       NaN  ...          1.0         1.0\n",
              "1308         1309       NaN  ...          1.0         3.0\n",
              "\n",
              "[418 rows x 28 columns]"
            ]
          },
          "metadata": {
            "tags": []
          },
          "execution_count": 24
        }
      ]
    },
    {
      "cell_type": "code",
      "metadata": {
        "id": "AzGEddHeHXeE",
        "outputId": "44fb70e8-848e-4ca8-c387-a8550454a3ca",
        "colab": {
          "base_uri": "https://localhost:8080/"
        }
      },
      "source": [
        "Y_train"
      ],
      "execution_count": null,
      "outputs": [
        {
          "output_type": "execute_result",
          "data": {
            "text/plain": [
              "0      0.0\n",
              "1      1.0\n",
              "2      1.0\n",
              "3      1.0\n",
              "4      0.0\n",
              "      ... \n",
              "886    0.0\n",
              "887    1.0\n",
              "888    0.0\n",
              "889    1.0\n",
              "890    0.0\n",
              "Name: Survived, Length: 891, dtype: float64"
            ]
          },
          "metadata": {
            "tags": []
          },
          "execution_count": 25
        }
      ]
    },
    {
      "cell_type": "markdown",
      "metadata": {
        "id": "GL3RjPMd5TbF"
      },
      "source": [
        "### 5) e) Use StandardScaler of Scikit Learn to scale the 'Fare' feature of both X_train and X_test. "
      ]
    },
    {
      "cell_type": "code",
      "metadata": {
        "id": "oDkSrDqllnPE",
        "outputId": "b8d44b24-e9e4-4b2e-ff98-c33002ae326d",
        "colab": {
          "base_uri": "https://localhost:8080/",
          "height": 1000
        }
      },
      "source": [
        "from sklearn.preprocessing import StandardScaler\n",
        "scaler = StandardScaler()\n",
        "\n",
        "Fare_train = np.array((X_train['Fare']))\n",
        "Fare_test = np.array((X_test['Fare']))\n",
        "\n",
        "Update_X_train = Fare_train.reshape(1,-1)\n",
        "Update_X_test = Fare_test.reshape(1,-1)\n",
        "\n",
        "print(scaler.fit(Fare_train))\n",
        "print(scaler.fit(Fare_test))"
      ],
      "execution_count": null,
      "outputs": [
        {
          "output_type": "error",
          "ename": "ValueError",
          "evalue": "ignored",
          "traceback": [
            "\u001b[0;31m---------------------------------------------------------------------------\u001b[0m",
            "\u001b[0;31mValueError\u001b[0m                                Traceback (most recent call last)",
            "\u001b[0;32m<ipython-input-26-f4e74b101cd4>\u001b[0m in \u001b[0;36m<module>\u001b[0;34m()\u001b[0m\n\u001b[1;32m      8\u001b[0m \u001b[0mUpdate_X_test\u001b[0m \u001b[0;34m=\u001b[0m \u001b[0mFare_test\u001b[0m\u001b[0;34m.\u001b[0m\u001b[0mreshape\u001b[0m\u001b[0;34m(\u001b[0m\u001b[0;36m1\u001b[0m\u001b[0;34m,\u001b[0m\u001b[0;34m-\u001b[0m\u001b[0;36m1\u001b[0m\u001b[0;34m)\u001b[0m\u001b[0;34m\u001b[0m\u001b[0;34m\u001b[0m\u001b[0m\n\u001b[1;32m      9\u001b[0m \u001b[0;34m\u001b[0m\u001b[0m\n\u001b[0;32m---> 10\u001b[0;31m \u001b[0mprint\u001b[0m\u001b[0;34m(\u001b[0m\u001b[0mscaler\u001b[0m\u001b[0;34m.\u001b[0m\u001b[0mfit\u001b[0m\u001b[0;34m(\u001b[0m\u001b[0mFare_train\u001b[0m\u001b[0;34m)\u001b[0m\u001b[0;34m)\u001b[0m\u001b[0;34m\u001b[0m\u001b[0;34m\u001b[0m\u001b[0m\n\u001b[0m\u001b[1;32m     11\u001b[0m \u001b[0mprint\u001b[0m\u001b[0;34m(\u001b[0m\u001b[0mscaler\u001b[0m\u001b[0;34m.\u001b[0m\u001b[0mfit\u001b[0m\u001b[0;34m(\u001b[0m\u001b[0mFare_test\u001b[0m\u001b[0;34m)\u001b[0m\u001b[0;34m)\u001b[0m\u001b[0;34m\u001b[0m\u001b[0;34m\u001b[0m\u001b[0m\n",
            "\u001b[0;32m/usr/local/lib/python3.6/dist-packages/sklearn/preprocessing/_data.py\u001b[0m in \u001b[0;36mfit\u001b[0;34m(self, X, y)\u001b[0m\n\u001b[1;32m    667\u001b[0m         \u001b[0;31m# Reset internal state before fitting\u001b[0m\u001b[0;34m\u001b[0m\u001b[0;34m\u001b[0m\u001b[0;34m\u001b[0m\u001b[0m\n\u001b[1;32m    668\u001b[0m         \u001b[0mself\u001b[0m\u001b[0;34m.\u001b[0m\u001b[0m_reset\u001b[0m\u001b[0;34m(\u001b[0m\u001b[0;34m)\u001b[0m\u001b[0;34m\u001b[0m\u001b[0;34m\u001b[0m\u001b[0m\n\u001b[0;32m--> 669\u001b[0;31m         \u001b[0;32mreturn\u001b[0m \u001b[0mself\u001b[0m\u001b[0;34m.\u001b[0m\u001b[0mpartial_fit\u001b[0m\u001b[0;34m(\u001b[0m\u001b[0mX\u001b[0m\u001b[0;34m,\u001b[0m \u001b[0my\u001b[0m\u001b[0;34m)\u001b[0m\u001b[0;34m\u001b[0m\u001b[0;34m\u001b[0m\u001b[0m\n\u001b[0m\u001b[1;32m    670\u001b[0m \u001b[0;34m\u001b[0m\u001b[0m\n\u001b[1;32m    671\u001b[0m     \u001b[0;32mdef\u001b[0m \u001b[0mpartial_fit\u001b[0m\u001b[0;34m(\u001b[0m\u001b[0mself\u001b[0m\u001b[0;34m,\u001b[0m \u001b[0mX\u001b[0m\u001b[0;34m,\u001b[0m \u001b[0my\u001b[0m\u001b[0;34m=\u001b[0m\u001b[0;32mNone\u001b[0m\u001b[0;34m)\u001b[0m\u001b[0;34m:\u001b[0m\u001b[0;34m\u001b[0m\u001b[0;34m\u001b[0m\u001b[0m\n",
            "\u001b[0;32m/usr/local/lib/python3.6/dist-packages/sklearn/preprocessing/_data.py\u001b[0m in \u001b[0;36mpartial_fit\u001b[0;34m(self, X, y)\u001b[0m\n\u001b[1;32m    698\u001b[0m         X = check_array(X, accept_sparse=('csr', 'csc'),\n\u001b[1;32m    699\u001b[0m                         \u001b[0mestimator\u001b[0m\u001b[0;34m=\u001b[0m\u001b[0mself\u001b[0m\u001b[0;34m,\u001b[0m \u001b[0mdtype\u001b[0m\u001b[0;34m=\u001b[0m\u001b[0mFLOAT_DTYPES\u001b[0m\u001b[0;34m,\u001b[0m\u001b[0;34m\u001b[0m\u001b[0;34m\u001b[0m\u001b[0m\n\u001b[0;32m--> 700\u001b[0;31m                         force_all_finite='allow-nan')\n\u001b[0m\u001b[1;32m    701\u001b[0m \u001b[0;34m\u001b[0m\u001b[0m\n\u001b[1;32m    702\u001b[0m         \u001b[0;31m# Even in the case of `with_mean=False`, we update the mean anyway\u001b[0m\u001b[0;34m\u001b[0m\u001b[0;34m\u001b[0m\u001b[0;34m\u001b[0m\u001b[0m\n",
            "\u001b[0;32m/usr/local/lib/python3.6/dist-packages/sklearn/utils/validation.py\u001b[0m in \u001b[0;36mcheck_array\u001b[0;34m(array, accept_sparse, accept_large_sparse, dtype, order, copy, force_all_finite, ensure_2d, allow_nd, ensure_min_samples, ensure_min_features, warn_on_dtype, estimator)\u001b[0m\n\u001b[1;32m    554\u001b[0m                     \u001b[0;34m\"Reshape your data either using array.reshape(-1, 1) if \"\u001b[0m\u001b[0;34m\u001b[0m\u001b[0;34m\u001b[0m\u001b[0m\n\u001b[1;32m    555\u001b[0m                     \u001b[0;34m\"your data has a single feature or array.reshape(1, -1) \"\u001b[0m\u001b[0;34m\u001b[0m\u001b[0;34m\u001b[0m\u001b[0m\n\u001b[0;32m--> 556\u001b[0;31m                     \"if it contains a single sample.\".format(array))\n\u001b[0m\u001b[1;32m    557\u001b[0m \u001b[0;34m\u001b[0m\u001b[0m\n\u001b[1;32m    558\u001b[0m         \u001b[0;31m# in the future np.flexible dtypes will be handled like object dtypes\u001b[0m\u001b[0;34m\u001b[0m\u001b[0;34m\u001b[0m\u001b[0;34m\u001b[0m\u001b[0m\n",
            "\u001b[0;31mValueError\u001b[0m: Expected 2D array, got 1D array instead:\narray=[  7.25    71.2833   7.925   53.1      8.05     8.4583  51.8625  21.075\n  11.1333  30.0708  16.7     26.55     8.05    31.275    7.8542  16.\n  29.125   13.      18.       7.225   26.      13.       8.0292  35.5\n  21.075   31.3875   7.225  263.       7.8792   7.8958  27.7208 146.5208\n   7.75    10.5     82.1708  52.       7.2292   8.05    18.      11.2417\n   9.475   21.       7.8958  41.5792   7.8792   8.05    15.5      7.75\n  21.6792  17.8     39.6875   7.8     76.7292  26.      61.9792  35.5\n  10.5      7.2292  27.75    46.9      7.2292  80.      83.475   27.9\n  27.7208  15.2458  10.5      8.1583   7.925    8.6625  10.5     46.9\n  73.5     14.4542  56.4958   7.65     7.8958   8.05    29.      12.475\n   9.       9.5      7.7875  47.1     10.5     15.85    34.375    8.05\n 263.       8.05     8.05     7.8542  61.175   20.575    7.25     8.05\n  34.6542  63.3583  23.      26.       7.8958   7.8958  77.2875   8.6542\n   7.925    7.8958   7.65     7.775    7.8958  24.15    52.      14.4542\n   8.05     9.825   14.4583   7.925    7.75    21.     247.5208  31.275\n  73.5      8.05    30.0708  13.      77.2875  11.2417   7.75     7.1417\n  22.3583   6.975    7.8958   7.05    14.5     26.      13.      15.0458\n  26.2833  53.1      9.2167  79.2     15.2458   7.75    15.85     6.75\n  11.5     36.75     7.7958  34.375   26.      13.      12.525   66.6\n   8.05    14.5      7.3125  61.3792   7.7333   8.05     8.6625  69.55\n  16.1     15.75     7.775    8.6625  39.6875  20.525   55.      27.9\n  25.925   56.4958  33.5     29.125   11.1333   7.925   30.6958   7.8542\n  25.4667  28.7125  13.       0.      69.55    15.05    31.3875  39.\n  22.025   50.      15.5     26.55    15.5      7.8958  13.      13.\n   7.8542  26.      27.7208 146.5208   7.75     8.4042   7.75    13.\n   9.5     69.55     6.4958   7.225    8.05    10.4625  15.85    18.7875\n   7.75    31.       7.05    21.       7.25    13.       7.75   113.275\n   7.925   27.      76.2917  10.5      8.05    13.       8.05     7.8958\n  90.       9.35    10.5      7.25    13.      25.4667  83.475    7.775\n  13.5     31.3875  10.5      7.55    26.      26.25    10.5     12.275\n  14.4542  15.5     10.5      7.125    7.225   90.       7.775   14.5\n  52.5542  26.       7.25    10.4625  26.55    16.1     20.2125  15.2458\n  79.2     86.5    512.3292  26.       7.75    31.3875  79.65     0.\n   7.75    10.5     39.6875   7.775  153.4625 135.6333  31.       0.\n  19.5     29.7      7.75    77.9583   7.75     0.      29.125   20.25\n   7.75     7.8542   9.5      8.05    26.       8.6625   9.5      7.8958\n  13.       7.75    78.85    91.0792  12.875    8.85     7.8958  27.7208\n   7.2292 151.55    30.5    247.5208   7.75    23.25     0.      12.35\n   8.05   151.55   110.8833 108.9     24.      56.9292  83.1583 262.375\n  26.       7.8958  26.25     7.8542  26.      14.     164.8667 134.5\n   7.25     7.8958  12.35    29.      69.55   135.6333   6.2375  13.\n  20.525   57.9792  23.25    28.5    153.4625  18.     133.65     7.8958\n  66.6    134.5      8.05    35.5     26.     263.      13.      13.\n  13.      13.      13.      16.1     15.9      8.6625   9.225   35.\n   7.2292  17.8      7.225    9.5     55.      13.       7.8792   7.8792\n  27.9     27.7208  14.4542   7.05    15.5      7.25    75.25     7.2292\n   7.75    69.3     55.4417   6.4958   8.05   135.6333  21.075   82.1708\n   7.25   211.5      4.0125   7.775  227.525   15.7417   7.925   52.\n   7.8958  73.5     46.9     13.       7.7292  12.     120.       7.7958\n   7.925  113.275   16.7      7.7958   7.8542  26.      10.5     12.65\n   7.925    8.05     9.825   15.85     8.6625  21.       7.75    18.75\n   7.775   25.4667   7.8958   6.8583  90.       0.       7.925    8.05\n  32.5     13.      13.      24.15     7.8958   7.7333   7.875   14.4\n  20.2125   7.25    26.      26.       7.75     8.05    26.55    16.1\n  26.       7.125   55.9    120.      34.375   18.75   263.      10.5\n  26.25     9.5      7.775   13.       8.1125  81.8583  19.5     26.55\n  19.2583  30.5     27.75    19.9667  27.75    89.1042   8.05     7.8958\n  26.55    51.8625  10.5      7.75    26.55     8.05    38.5     13.\n   8.05     7.05     0.      26.55     7.725   19.2583   7.25     8.6625\n  27.75    13.7917   9.8375  52.      21.       7.0458   7.5208  12.2875\n  46.9      0.       8.05     9.5875  91.0792  25.4667  90.      29.7\n   8.05    15.9     19.9667   7.25    30.5     49.5042   8.05    14.4583\n  78.2667  15.1    151.55     7.7958   8.6625   7.75     7.6292   9.5875\n  86.5    108.9     26.      26.55    22.525   56.4958   7.75     8.05\n  26.2875  59.4      7.4958  34.0208  10.5     24.15    26.       7.8958\n  93.5      7.8958   7.225   57.9792   7.2292   7.75    10.5    221.7792\n   7.925   11.5     26.       7.2292   7.2292  22.3583   8.6625  26.25\n  26.55   106.425   14.5     49.5     71.      31.275   31.275   26.\n 106.425   26.      26.      13.8625  20.525   36.75   110.8833  26.\n   7.8292   7.225    7.775   26.55    39.6    227.525   79.65    17.4\n   7.75     7.8958  13.5      8.05     8.05    24.15     7.8958  21.075\n   7.2292   7.8542  10.5     51.4792  26.3875   7.75     8.05    14.5\n  13.      55.9     14.4583   7.925   30.     110.8833  26.      40.125\n   8.7125  79.65    15.      79.2      8.05     8.05     7.125   78.2667\n   7.25     7.75    26.      24.15    33.       0.       7.225   56.9292\n  27.       7.8958  42.4      8.05    26.55    15.55     7.8958  30.5\n  41.5792 153.4625  31.275    7.05    15.5      7.75     8.05    65.\n  14.4     16.1     39.      10.5     14.4542  52.5542  15.7417   7.8542\n  16.1     32.3208  12.35    77.9583   7.8958   7.7333  30.       7.0542\n  30.5      0.      27.9     13.       7.925   26.25    39.6875  16.1\n   7.8542  69.3     27.9     56.4958  19.2583  76.7292   7.8958  35.5\n   7.55     7.55     7.8958  23.       8.4333   7.8292   6.75    73.5\n   7.8958  15.5     13.     113.275  133.65     7.225   25.5875   7.4958\n   7.925   73.5     13.       7.775    8.05    52.      39.      52.\n  10.5     13.       0.       7.775    8.05     9.8417  46.9    512.3292\n   8.1375  76.7292   9.225   46.9     39.      41.5792  39.6875  10.1708\n   7.7958 211.3375  57.      13.4167  56.4958   7.225   26.55    13.5\n   8.05     7.7333 110.8833   7.65   227.525   26.2875  14.4542   7.7417\n   7.8542  26.      13.5     26.2875 151.55    15.2458  49.5042  26.55\n  52.       9.4833  13.       7.65   227.525   10.5     15.5      7.775\n  33.       7.0542  13.      13.      53.1      8.6625  21.       7.7375\n  26.       7.925  211.3375  18.7875   0.      13.      13.      16.1\n  34.375  512.3292   7.8958   7.8958  30.      78.85   262.375   16.1\n   7.925   71.      20.25    13.      53.1      7.75    23.      12.475\n   9.5      7.8958  65.      14.5      7.7958  11.5      8.05    86.5\n  14.5      7.125    7.2292 120.       7.775   77.9583  39.6      7.75\n  24.15     8.3625   9.5      7.8542  10.5      7.225   23.       7.75\n   7.75    12.475    7.7375 211.3375   7.2292  57.      30.      23.45\n   7.05     7.25     7.4958  29.125   20.575   79.2      7.75    26.\n  69.55    30.6958   7.8958  13.      25.9292   8.6833   7.2292  24.15\n  13.      26.25   120.       8.5167   6.975    7.775    0.       7.775\n  13.      53.1      7.8875  24.15    10.5     31.275    8.05     0.\n   7.925   37.0042   6.45    27.9     93.5      8.6625   0.      12.475\n  39.6875   6.95    56.4958  37.0042   7.75    80.      14.4542  18.75\n   7.2292   7.8542   8.3     83.1583   8.6625   8.05    56.4958  29.7\n   7.925   10.5     31.       6.4375   8.6625   7.55    69.55     7.8958\n  33.      89.1042  31.275    7.775   15.2458  39.4     26.       9.35\n 164.8667  26.55    19.2583   7.2292  14.1083  11.5     25.9292  69.55\n  13.      13.      13.8583  50.4958   9.5     11.1333   7.8958  52.5542\n   5.       9.      24.       7.225    9.8458   7.8958   7.8958  83.1583\n  26.       7.8958  10.5167  10.5      7.05    29.125   13.      30.\n  23.45    30.       7.75  ].\nReshape your data either using array.reshape(-1, 1) if your data has a single feature or array.reshape(1, -1) if it contains a single sample."
          ]
        }
      ]
    },
    {
      "cell_type": "markdown",
      "metadata": {
        "id": "wV8Z1FdiBXcf"
      },
      "source": [
        "### 5) f) For each of the algorithms, use Scikit-Learn's cross-validation feature to measure the performance and print out mean and std for each algoritm:\n",
        "\n",
        "1. Stochastic Gradient Descent (SGD)\n",
        "2. LogisticRegression\n",
        "3. Support Vector Machine (kernel='linear' parameter)\n",
        "4. Support Vector Machine (kernel = 'rbf' parameter)\n",
        "5. DecisionTreeClassifier\n",
        "6. RandomForestClassifier\n",
        "7. ExtraTreesClassifier\n",
        "8. AdaBoostClassifier\n",
        "9. GradientBoostingClassifier\n",
        "10. XGBoost\n",
        "-- You can import XGBoost library as follows:  \"from xgboost import XGBClassifier\"\n",
        "\n",
        "Parameters:\n",
        "- Set the scoring parameter of cross-validation to 'f1'\n",
        "- Use the default cv = 5 parameter of cross-validation\n",
        "- Use random_state = 42 for initializing model algorithms\n",
        "- Use the kernel parameter indicated above for SVM algorithms\n",
        "- For others, use the default parameters (no need to specify explicitly)\n",
        "\n"
      ]
    },
    {
      "cell_type": "code",
      "metadata": {
        "id": "wRQFbT2-7Kp1",
        "outputId": "b3321fee-8cb9-4ae2-d5d9-92376cf01f87",
        "colab": {
          "base_uri": "https://localhost:8080/"
        }
      },
      "source": [
        "#Import label encoder \n",
        "from sklearn import preprocessing \n",
        "  \n",
        "# label_encoder object knows how to understand word labels. \n",
        "label_encoder = preprocessing.LabelEncoder() \n",
        "  \n",
        "# Encode Name attribute. \n",
        "Updated_X_train['Name']= label_encoder.fit_transform(Updated_X_train['Name']) \n",
        "  \n",
        "Updated_X_train['Name'].unique() "
      ],
      "execution_count": null,
      "outputs": [
        {
          "output_type": "stream",
          "text": [
            "/usr/local/lib/python3.6/dist-packages/ipykernel_launcher.py:8: SettingWithCopyWarning: \n",
            "A value is trying to be set on a copy of a slice from a DataFrame.\n",
            "Try using .loc[row_indexer,col_indexer] = value instead\n",
            "\n",
            "See the caveats in the documentation: https://pandas.pydata.org/pandas-docs/stable/user_guide/indexing.html#returning-a-view-versus-a-copy\n",
            "  \n"
          ],
          "name": "stderr"
        },
        {
          "output_type": "execute_result",
          "data": {
            "text/plain": [
              "array([108, 190, 353, 272,  15, 554, 515, 624, 412, 576, 727,  95, 729,\n",
              "        28, 840, 359, 682, 867, 839, 512, 273,  80, 523, 765, 626,  44,\n",
              "       240, 260, 605, 813, 828, 776, 289, 856, 535, 372, 505, 134, 837,\n",
              "       589,   7, 827, 446, 456, 212, 697, 473, 604, 726,  38, 629, 594,\n",
              "       333, 246, 620, 873, 707, 595, 853, 299, 749, 385, 337, 755, 784,\n",
              "       560, 596, 185,  25, 440, 396, 300, 376, 161,  87, 546, 778, 563,\n",
              "       127, 223, 842, 737, 519, 141, 386,  52, 255, 764, 259, 149, 159,\n",
              "        31, 150, 209, 184, 740, 292, 308, 219, 422, 656, 658, 858, 405,\n",
              "       312, 542, 724, 559, 675, 552, 667, 882,  67, 417,  46, 645, 178,\n",
              "       826,  70,  24, 362, 551, 575, 848, 857, 588, 525, 499, 653, 234,\n",
              "       225, 165, 695, 851, 772, 685, 585, 271, 618, 282,  99, 597, 319,\n",
              "       116,  32, 586,  29, 254, 580, 121,  68, 643, 532, 889, 612, 866,\n",
              "       287, 181, 767, 716, 186, 847,  82, 129, 628, 293, 157, 760,  69,\n",
              "       486, 832, 680, 408, 752, 769, 444, 464, 388, 320, 474, 717, 650,\n",
              "        41,  76, 441, 700, 601, 698, 101, 823, 664, 136,  20, 579, 113,\n",
              "       495, 533, 611, 497, 881, 834, 721, 403, 878, 166, 789,  51,   9,\n",
              "       140,  94,  12, 131, 649, 288, 437, 582, 375, 390,  72, 338, 791,\n",
              "       105, 306, 581, 379,  83, 531, 492, 243, 467, 339, 460, 754,  43,\n",
              "       479, 329, 370, 172, 648, 383, 883, 567, 169, 500,  47, 539, 481,\n",
              "       322,  78, 147, 673, 790, 782, 487, 702, 819, 808, 156, 844, 636,\n",
              "       771,  42, 799, 340, 356, 674, 631, 652, 305,  91, 125, 817, 530,\n",
              "       577, 350,  33, 482, 634, 681,   2, 227, 614, 887, 221, 770, 779,\n",
              "       886, 570, 378, 177,  65,  90, 477, 315, 541, 478, 324,  17, 714,\n",
              "        71, 431, 518, 411, 428, 868,  16, 248, 647,   3, 263, 348, 710,\n",
              "       449, 355, 342, 590, 423, 555, 859, 775, 211, 200, 762, 128, 722,\n",
              "       877, 598,  60, 295, 363, 517, 637, 304, 838, 265, 210, 642, 117,\n",
              "       192,  93, 578, 258, 170, 733, 262, 111, 768, 207, 183, 215, 608,\n",
              "       870, 237,  37, 879, 835, 104, 270, 522, 545, 759, 888,  64,  40,\n",
              "       599,   5, 845, 562, 400,  48, 328, 863,  75, 690, 625, 536, 454,\n",
              "       862,  85, 314,  86, 572, 811, 373, 665, 205, 298, 118, 715, 468,\n",
              "       144, 393, 313, 583, 728, 404, 613, 524, 623, 821, 592,   6, 418,\n",
              "       318, 616, 274, 861, 687,  88, 465, 732, 343, 540, 191, 792, 528,\n",
              "       226, 742, 513, 829, 281, 155, 884, 198, 701, 872, 162, 662, 249,\n",
              "       663,  92, 810, 491, 420, 744, 143, 253, 688, 261, 447, 344, 323,\n",
              "       659, 679, 402, 216, 529, 735,  55, 661, 854, 316, 257, 290, 644,\n",
              "       392, 537, 436, 815, 603,  21, 557, 280, 538, 502, 296, 132, 766,\n",
              "       731,  54, 430, 124, 855, 401, 787, 164, 676, 107, 425, 365, 297,\n",
              "       268, 706, 825,  89, 466, 381, 435, 774, 182, 317, 871, 547,  39,\n",
              "       781, 880, 242, 738,  18, 796, 130, 133, 607, 450, 501, 646, 670,\n",
              "       106, 610, 455, 195, 849, 521, 705, 168, 843, 472, 709,  35, 641,\n",
              "       651, 841, 448, 364, 427, 244, 689, 245, 725, 366, 669, 818, 236,\n",
              "       654, 123, 341, 120, 461, 692, 266, 188,  26,  27,  73, 222, 587,\n",
              "        74, 622, 294, 203, 804, 736, 600, 463, 609, 874, 228, 693, 800,\n",
              "       885, 558, 751, 593, 746, 527, 204, 786, 627, 217, 416, 336,  36,\n",
              "       251, 432, 708, 639, 277, 745, 135, 419, 160, 805, 224, 703, 640,\n",
              "       798, 395, 267, 284, 566, 691, 783, 238, 100, 154, 830, 470, 409,\n",
              "        98, 229, 391, 761, 335, 816, 374, 483, 424, 199, 458, 741,  30,\n",
              "       394, 568, 377, 110, 357, 197, 488,  77, 279, 875, 439, 573, 327,\n",
              "       103, 794, 442, 490,  96, 602,  66, 494, 777, 635, 757, 206, 469,\n",
              "       173, 633, 809, 397, 723, 758, 252,  53, 332, 180, 747, 865, 780,\n",
              "       544, 218, 421, 606, 352, 360, 671, 102, 232, 584, 264,  57, 171,\n",
              "       167, 484, 361, 119, 699, 179, 802, 114, 202, 543, 864, 846, 231,\n",
              "       730, 824, 302, 137, 655, 345, 615, 301, 112, 457, 632, 194, 247,\n",
              "       498, 213, 426, 452, 713, 850, 153, 433, 565, 803, 382,  45, 743,\n",
              "        63, 275, 326, 556, 434, 126, 163, 561, 514, 443, 801, 459, 307,\n",
              "       773, 241, 822, 520, 410, 331, 399, 286, 368, 151, 617, 677, 507,\n",
              "       115, 387,  14, 346, 445,  84, 820, 869, 256, 476, 389, 574, 347,\n",
              "       148, 711, 526, 788, 187,   1, 748, 511, 176, 852, 549, 833, 415,\n",
              "       358, 321, 138,  58, 806, 704, 276, 591,  62, 146, 233, 369, 109,\n",
              "       506, 553, 309, 480, 398, 496, 235, 367, 569, 812, 239, 438, 694,\n",
              "        50, 214, 489, 414,  13, 330, 753, 683, 208, 310, 429, 278, 719,\n",
              "       380, 201, 621, 462, 619, 384, 831, 666, 174, 142, 807, 351, 406,\n",
              "        34, 660, 534, 152,  10, 475, 763,  23, 814, 269, 354, 504, 371,\n",
              "       756, 349, 493, 678, 550, 630, 250, 453, 503, 516, 785, 876, 686,\n",
              "       712,  49,  19, 175, 638, 750, 158, 508,  11, 564, 734, 471, 189,\n",
              "         0, 720, 509, 334, 291,  22, 795,  97, 485, 145,   8, 860, 196,\n",
              "        56, 672, 325, 283, 797, 718, 285, 122, 230, 696, 890, 407,  59,\n",
              "        79, 139, 836,   4, 571, 311, 657, 451, 668, 739, 510, 193,  61,\n",
              "       793, 684, 548, 303, 413,  81, 220])"
            ]
          },
          "metadata": {
            "tags": []
          },
          "execution_count": 27
        }
      ]
    },
    {
      "cell_type": "code",
      "metadata": {
        "id": "cgU3TulGprCd",
        "outputId": "25db4d38-72d3-4afd-b752-d8f4a09767a9",
        "colab": {
          "base_uri": "https://localhost:8080/"
        }
      },
      "source": [
        "#Import label encoder \n",
        "from sklearn import preprocessing \n",
        "  \n",
        "# label_encoder object knows how to understand word labels. \n",
        "label_encoder = preprocessing.LabelEncoder() \n",
        "  \n",
        "# Encode Sex attribute. \n",
        "Updated_X_train['Sex']= label_encoder.fit_transform(Updated_X_train['Sex']) \n",
        "  \n",
        "Updated_X_train['Sex'].unique()"
      ],
      "execution_count": null,
      "outputs": [
        {
          "output_type": "stream",
          "text": [
            "/usr/local/lib/python3.6/dist-packages/ipykernel_launcher.py:8: SettingWithCopyWarning: \n",
            "A value is trying to be set on a copy of a slice from a DataFrame.\n",
            "Try using .loc[row_indexer,col_indexer] = value instead\n",
            "\n",
            "See the caveats in the documentation: https://pandas.pydata.org/pandas-docs/stable/user_guide/indexing.html#returning-a-view-versus-a-copy\n",
            "  \n"
          ],
          "name": "stderr"
        },
        {
          "output_type": "execute_result",
          "data": {
            "text/plain": [
              "array([1, 0])"
            ]
          },
          "metadata": {
            "tags": []
          },
          "execution_count": 28
        }
      ]
    },
    {
      "cell_type": "code",
      "metadata": {
        "id": "MnR4SwJQAwe5",
        "outputId": "cb6cf2ec-e77d-40e4-a121-47e41bb66910",
        "colab": {
          "base_uri": "https://localhost:8080/"
        }
      },
      "source": [
        "#Import label encoder \n",
        "from sklearn import preprocessing \n",
        "  \n",
        "# label_encoder object knows how to understand word labels. \n",
        "label_encoder = preprocessing.LabelEncoder() \n",
        "  \n",
        "# Encode Ticket attribute. \n",
        "Updated_X_train['Ticket']= label_encoder.fit_transform(Updated_X_train['Ticket']) \n",
        "  \n",
        "Updated_X_train['Ticket'].unique() "
      ],
      "execution_count": null,
      "outputs": [
        {
          "output_type": "stream",
          "text": [
            "/usr/local/lib/python3.6/dist-packages/ipykernel_launcher.py:8: SettingWithCopyWarning: \n",
            "A value is trying to be set on a copy of a slice from a DataFrame.\n",
            "Try using .loc[row_indexer,col_indexer] = value instead\n",
            "\n",
            "See the caveats in the documentation: https://pandas.pydata.org/pandas-docs/stable/user_guide/indexing.html#returning-a-view-versus-a-copy\n",
            "  \n"
          ],
          "name": "stderr"
        },
        {
          "output_type": "execute_result",
          "data": {
            "text/plain": [
              "array([523, 596, 669,  49, 472, 275,  85, 395, 344, 132, 616,  38, 535,\n",
              "       333, 413, 153, 480, 151, 301, 184, 139, 152, 278,  42, 329, 179,\n",
              "        95, 283, 362, 598, 586, 288, 549, 600,  43, 202, 514, 302, 186,\n",
              "       507,  53, 391, 634, 282, 617, 462,  76, 190, 377, 249, 522, 587,\n",
              "       239,  29,  94, 555, 215, 561, 566, 197,  32, 457, 337, 601, 189,\n",
              "       553, 623, 248, 270, 557, 621, 204,  80, 347, 355, 473, 158, 432,\n",
              "       304, 311, 280,  25, 637, 247, 676, 652, 297, 298, 341, 678, 548,\n",
              "       428, 475, 607, 612, 117, 150, 384, 361, 417, 505, 245, 354, 296,\n",
              "       254, 388, 469,   2, 193, 274, 491, 176, 666, 460, 585, 540, 219,\n",
              "       463, 541, 196, 318, 380, 640, 537, 111, 552, 630,  55, 504, 592,\n",
              "       203, 332, 668, 438, 118, 558, 405, 113, 147, 622,  36, 516, 538,\n",
              "       573, 595, 418, 654, 258, 568, 470, 559, 323, 265, 423,  28, 576,\n",
              "         5, 659,  90, 412, 488, 593, 169, 574, 629, 114, 271,  34, 459,\n",
              "        11, 435, 386, 122, 227, 406, 604, 452, 494, 461, 160, 306, 242,\n",
              "       177, 530, 316, 216, 445,  17, 642, 570, 526, 163, 443, 416, 670,\n",
              "       142,  63, 679, 653, 105, 102, 375,  93, 615, 672, 525, 125, 322,\n",
              "       128, 554, 677, 198, 556, 231, 636, 444, 674, 658, 213,  92, 325,\n",
              "       166,  54, 144, 422,  31, 536, 458, 185, 589,   0, 608, 115, 482,\n",
              "         1,  16, 478, 546, 334, 588, 613,  47, 162, 594, 465,  71, 326,\n",
              "       135, 551, 290, 340, 310, 533,  24, 378, 308, 353, 134, 464,  91,\n",
              "        64, 635, 376, 374, 606, 212,  37,  98, 513, 441, 109, 527,  83,\n",
              "       611, 575, 584,  59, 602, 167, 382, 571, 343, 232, 453,  81, 524,\n",
              "       365, 124, 299, 229,   7,  20, 605, 370, 510,  39, 159, 149, 112,\n",
              "       157, 257, 483, 562, 262, 503,  30, 214, 182, 314, 131, 279, 285,\n",
              "       633, 211, 641, 544,   4, 175,  78, 581,  58, 244, 273, 545,  27,\n",
              "       183, 324, 610, 187, 665, 371, 220, 447, 625,  33, 401, 246, 410,\n",
              "       414, 226, 146, 140, 663, 292, 492, 267, 230, 321, 237, 255, 367,\n",
              "       487, 655, 295, 224, 168, 225, 307, 392, 534, 259, 331, 521, 100,\n",
              "       170, 437, 644,   3, 476, 627, 657,  72, 547, 305, 328, 116, 499,\n",
              "       289,  45, 194,  40, 497,  22,  84, 528, 379,  73,  86, 572, 468,\n",
              "        96, 429,   6, 121, 539, 639,  44, 421, 272, 263, 628, 509, 252,\n",
              "       315, 411, 251, 136, 531, 489,  61, 517, 498, 649,  41, 603, 518,\n",
              "       454, 564, 402, 261, 433, 276, 490, 180,  10, 542, 479, 648, 577,\n",
              "       599, 356, 456, 560, 110, 381,  67, 390, 173, 217, 446, 673, 583,\n",
              "       250, 235, 181, 210, 260,  21, 614, 426,  75, 680, 233, 501, 631,\n",
              "       148, 284, 171, 335,  52,  57, 300, 471, 389, 103, 651, 645, 519,\n",
              "       352, 207, 415, 624,  60, 578,  77, 520, 420, 143, 209, 661, 133,\n",
              "        68, 291, 129,  74,  79, 515, 656, 532, 434, 626, 155, 192, 360,\n",
              "        46, 430,   9, 396, 385,  50, 638, 467, 431, 106, 253, 188,  56,\n",
              "       400, 495, 455, 104, 369, 286, 218, 345,  70,  13, 130, 664, 409,\n",
              "       373,  69, 620, 567, 366, 512, 277, 439, 368, 241, 172, 496, 357,\n",
              "       660, 123, 256, 529,  99, 240, 569, 550, 145, 138, 397, 294, 493,\n",
              "       281, 500, 372, 403, 141,  89, 393, 200,  48, 156, 425, 419, 346,\n",
              "       579, 449, 398, 108, 580, 582,  19, 506, 164, 348, 293, 440, 319,\n",
              "       408,  65, 161,  51, 266, 451, 127, 667, 137, 228, 119, 349, 364,\n",
              "        82, 477, 662, 165,  35, 287, 234, 486, 312, 351, 404, 238, 424,\n",
              "       646, 191, 327,  18, 436, 511, 313, 407, 619, 201, 236, 330, 481,\n",
              "       450, 208,  26, 675, 643, 474, 243,  66, 597, 350, 223,  87, 383,\n",
              "       206, 174, 338, 320,  12, 336, 154, 339, 222, 427,  15, 671, 618,\n",
              "       543, 269,  97, 448, 442, 199, 342, 107, 609, 268, 485,  62, 647,\n",
              "       205, 264, 563, 359, 317, 591, 484,  23, 178, 399, 221,  88, 120,\n",
              "       126, 632, 590, 309, 387, 502, 303, 195, 358, 363, 394, 508, 565,\n",
              "       650, 101,  14,   8, 466])"
            ]
          },
          "metadata": {
            "tags": []
          },
          "execution_count": 29
        }
      ]
    },
    {
      "cell_type": "code",
      "metadata": {
        "id": "ukcCzlAhBTmO",
        "outputId": "7c261c20-914f-405b-8b4d-64ac8f1a9c9c",
        "colab": {
          "base_uri": "https://localhost:8080/"
        }
      },
      "source": [
        "#Import label encoder \n",
        "from sklearn import preprocessing \n",
        "  \n",
        "# label_encoder object knows how to understand word labels. \n",
        "label_encoder = preprocessing.LabelEncoder() \n",
        "  \n",
        "# Encode Cabin attribute. \n",
        "Updated_X_train['Cabin']= label_encoder.fit_transform(Updated_X_train['Cabin']) \n",
        "  \n",
        "Updated_X_train['Cabin'].unique() "
      ],
      "execution_count": null,
      "outputs": [
        {
          "output_type": "stream",
          "text": [
            "/usr/local/lib/python3.6/dist-packages/ipykernel_launcher.py:8: SettingWithCopyWarning: \n",
            "A value is trying to be set on a copy of a slice from a DataFrame.\n",
            "Try using .loc[row_indexer,col_indexer] = value instead\n",
            "\n",
            "See the caveats in the documentation: https://pandas.pydata.org/pandas-docs/stable/user_guide/indexing.html#returning-a-view-versus-a-copy\n",
            "  \n"
          ],
          "name": "stderr"
        },
        {
          "output_type": "execute_result",
          "data": {
            "text/plain": [
              "array([146,  81,  55, 129, 145,  49, 111,  13,  63,  41, 101,  23,  71,\n",
              "        21,  80, 142, 140, 122,  12,  91,  98,  52,  36, 116, 138, 107,\n",
              "        45, 141,  61, 123,  18,  14,  69, 144,   9,  28,  43,   8, 103,\n",
              "        93,  87,  78, 102,  83,  40, 134,  46,  57,  89,  54, 113,   3,\n",
              "        31,  90,  62,  51,  74, 125,  72,  35,  76, 124,  65,  17,  56,\n",
              "        85, 127, 147,  59, 104,  24, 131,  79,  47, 115, 128,  10,  50,\n",
              "        53,  86, 126,  97, 117, 133,   1,  25,  64,  96,  42, 121, 106,\n",
              "        39,  88,  26,  27,  20,  82,  77,   2,  48,  75,   0, 135,  29,\n",
              "         4,  95, 110, 114,   5,  33,   7, 108, 132,  58,  38,  34, 109,\n",
              "        32,  19, 139,  73, 120,  84,  66, 137,  15, 105,  67, 100, 118,\n",
              "        92, 136, 143,  22, 112,  44,  94,  11,  16,  37, 130,  68,  99,\n",
              "       119,   6,  70,  30,  60])"
            ]
          },
          "metadata": {
            "tags": []
          },
          "execution_count": 30
        }
      ]
    },
    {
      "cell_type": "code",
      "metadata": {
        "id": "rhD7XhICDNfa",
        "outputId": "4b72cd00-3965-45a6-fe3b-bf29b81955c1",
        "colab": {
          "base_uri": "https://localhost:8080/"
        }
      },
      "source": [
        "from sklearn import preprocessing \n",
        "  \n",
        "# label_encoder object knows how to understand word labels. \n",
        "label_encoder = preprocessing.LabelEncoder() \n",
        "  \n",
        "# Encode Fare_Category attribute. \n",
        "Updated_X_train['Fare_Category']= label_encoder.fit_transform(Updated_X_train['Fare_Category']) \n",
        "  \n",
        "Updated_X_train['Fare_Category'].unique() "
      ],
      "execution_count": null,
      "outputs": [
        {
          "output_type": "stream",
          "text": [
            "/usr/local/lib/python3.6/dist-packages/ipykernel_launcher.py:7: SettingWithCopyWarning: \n",
            "A value is trying to be set on a copy of a slice from a DataFrame.\n",
            "Try using .loc[row_indexer,col_indexer] = value instead\n",
            "\n",
            "See the caveats in the documentation: https://pandas.pydata.org/pandas-docs/stable/user_guide/indexing.html#returning-a-view-versus-a-copy\n",
            "  import sys\n"
          ],
          "name": "stderr"
        },
        {
          "output_type": "execute_result",
          "data": {
            "text/plain": [
              "array([0, 3, 4, 1, 2])"
            ]
          },
          "metadata": {
            "tags": []
          },
          "execution_count": 31
        }
      ]
    },
    {
      "cell_type": "code",
      "metadata": {
        "id": "1rLhKwkoDY5C",
        "outputId": "25b18740-ff56-4ed0-bc69-aef0e4441502",
        "colab": {
          "base_uri": "https://localhost:8080/"
        }
      },
      "source": [
        "from sklearn import preprocessing \n",
        "  \n",
        "# label_encoder object knows how to understand word labels. \n",
        "label_encoder = preprocessing.LabelEncoder() \n",
        "  \n",
        "# Encode Age_category attribute. \n",
        "Updated_X_train['Age_Category']= label_encoder.fit_transform(Updated_X_train['Age_Category']) \n",
        "  \n",
        "Updated_X_train['Age_Category'].unique() "
      ],
      "execution_count": null,
      "outputs": [
        {
          "output_type": "stream",
          "text": [
            "/usr/local/lib/python3.6/dist-packages/ipykernel_launcher.py:7: SettingWithCopyWarning: \n",
            "A value is trying to be set on a copy of a slice from a DataFrame.\n",
            "Try using .loc[row_indexer,col_indexer] = value instead\n",
            "\n",
            "See the caveats in the documentation: https://pandas.pydata.org/pandas-docs/stable/user_guide/indexing.html#returning-a-view-versus-a-copy\n",
            "  import sys\n"
          ],
          "name": "stderr"
        },
        {
          "output_type": "execute_result",
          "data": {
            "text/plain": [
              "array([1, 2, 3, 0, 4])"
            ]
          },
          "metadata": {
            "tags": []
          },
          "execution_count": 32
        }
      ]
    },
    {
      "cell_type": "code",
      "metadata": {
        "id": "_8APILY4A663",
        "outputId": "f7e130d9-4b4a-43f1-95e6-bb15b4757221",
        "colab": {
          "base_uri": "https://localhost:8080/"
        }
      },
      "source": [
        "from sklearn.preprocessing import OneHotEncoder\n",
        "# creating instance of one-hot-encoder\n",
        "enc = OneHotEncoder(handle_unknown='ignore')\n",
        "\n",
        "encoded_feat = OneHotEncoder().fit_transform(Updated_X_train['Ticket'].values.reshape(-1,1)).toarray()\n",
        "print(encoded_feat)\n",
        "feat = pd.DataFrame(encoded_feat)\n",
        "feat2 = feat.drop(feat.iloc[:, 27:], inplace=True, axis=1)\n",
        "Updated_X_train = Updated_X_train.append(feat2)"
      ],
      "execution_count": null,
      "outputs": [
        {
          "output_type": "stream",
          "text": [
            "[[0. 0. 0. ... 0. 0. 0.]\n",
            " [0. 0. 0. ... 0. 0. 0.]\n",
            " [0. 0. 0. ... 0. 0. 0.]\n",
            " ...\n",
            " [0. 0. 0. ... 0. 0. 0.]\n",
            " [0. 0. 0. ... 0. 0. 0.]\n",
            " [0. 0. 0. ... 0. 0. 0.]]\n"
          ],
          "name": "stdout"
        }
      ]
    },
    {
      "cell_type": "code",
      "metadata": {
        "id": "BmO7-6Hc6ywY",
        "outputId": "45a1dc4a-6fc3-434f-f758-eed7c0df7279",
        "colab": {
          "base_uri": "https://localhost:8080/"
        }
      },
      "source": [
        "import numpy as np\n",
        "from sklearn.preprocessing import OneHotEncoder\n",
        "# creating instance of one-hot-encoder\n",
        "enc = OneHotEncoder(handle_unknown='ignore')\n",
        "\n",
        "encoded_feat = OneHotEncoder().fit_transform(Updated_X_train['Cabin'].values.reshape(-1,1)).toarray()\n",
        "print(encoded_feat)\n",
        "feat = pd.DataFrame(encoded_feat)\n",
        "feat3 = feat.drop(feat.iloc[:, 27:], inplace=True, axis=1)\n",
        "Updated_X_train = Updated_X_train.append(feat3)"
      ],
      "execution_count": null,
      "outputs": [
        {
          "output_type": "stream",
          "text": [
            "[[0. 0. 0. ... 0. 1. 0.]\n",
            " [0. 0. 0. ... 0. 0. 0.]\n",
            " [0. 0. 0. ... 0. 1. 0.]\n",
            " ...\n",
            " [0. 0. 0. ... 0. 1. 0.]\n",
            " [0. 0. 0. ... 0. 0. 0.]\n",
            " [0. 0. 0. ... 0. 1. 0.]]\n"
          ],
          "name": "stdout"
        }
      ]
    },
    {
      "cell_type": "code",
      "metadata": {
        "id": "3Biy9hfTDmOY",
        "outputId": "82873a97-4006-4b4c-e4f2-7671ee22127b",
        "colab": {
          "base_uri": "https://localhost:8080/"
        }
      },
      "source": [
        "from sklearn.preprocessing import OneHotEncoder\n",
        "# creating instance of one-hot-encoder\n",
        "enc = OneHotEncoder(handle_unknown='ignore')\n",
        "\n",
        "encoded_feat = OneHotEncoder().fit_transform(Updated_X_train['Fare_Category'].values.reshape(-1,1)).toarray()\n",
        "print(encoded_feat)\n",
        "feat = pd.DataFrame(encoded_feat)\n",
        "feat4 = feat.drop(feat.iloc[:, 27:], inplace=True, axis=1)\n",
        "Updated_X_train = Updated_X_train.append(feat4)"
      ],
      "execution_count": null,
      "outputs": [
        {
          "output_type": "stream",
          "text": [
            "[[1. 0. 0. 0. 0.]\n",
            " [0. 0. 0. 1. 0.]\n",
            " [0. 0. 0. 0. 1.]\n",
            " ...\n",
            " [0. 0. 1. 0. 0.]\n",
            " [0. 0. 1. 0. 0.]\n",
            " [1. 0. 0. 0. 0.]]\n"
          ],
          "name": "stdout"
        }
      ]
    },
    {
      "cell_type": "code",
      "metadata": {
        "id": "CcEXFsuap37Y",
        "outputId": "46a17e1e-910a-4f5e-c149-2fcc38c01684",
        "colab": {
          "base_uri": "https://localhost:8080/"
        }
      },
      "source": [
        "from sklearn.preprocessing import OneHotEncoder\n",
        "# creating instance of one-hot-encoder\n",
        "enc = OneHotEncoder(handle_unknown='ignore')\n",
        "\n",
        "encoded_feat = OneHotEncoder().fit_transform(Updated_X_train['Sex'].values.reshape(-1,1)).toarray()\n",
        "print(encoded_feat)\n",
        "feat = pd.DataFrame(encoded_feat)\n",
        "feat6 = feat.drop(feat.iloc[:, 27:], inplace=True, axis=1)\n",
        "Updated_X_train = Updated_X_train.append(feat6)"
      ],
      "execution_count": null,
      "outputs": [
        {
          "output_type": "stream",
          "text": [
            "[[0. 1.]\n",
            " [1. 0.]\n",
            " [1. 0.]\n",
            " ...\n",
            " [1. 0.]\n",
            " [0. 1.]\n",
            " [0. 1.]]\n"
          ],
          "name": "stdout"
        }
      ]
    },
    {
      "cell_type": "code",
      "metadata": {
        "id": "v94_SbSeDl-F",
        "outputId": "8baf299a-33b6-4bb9-e544-7f6095db8121",
        "colab": {
          "base_uri": "https://localhost:8080/"
        }
      },
      "source": [
        "from sklearn.preprocessing import OneHotEncoder\n",
        "# creating instance of one-hot-encoder\n",
        "enc = OneHotEncoder(handle_unknown='ignore')\n",
        "\n",
        "encoded_feat = OneHotEncoder().fit_transform(Updated_X_train['Age_Category'].values.reshape(-1,1)).toarray()\n",
        "print(encoded_feat)\n",
        "feat = pd.DataFrame(encoded_feat)\n",
        "feat5 = feat.drop(feat.iloc[:, 27:], inplace=True, axis=1)\n",
        "Updated_X_train = Updated_X_train.append(feat5)"
      ],
      "execution_count": null,
      "outputs": [
        {
          "output_type": "stream",
          "text": [
            "[[0. 1. 0. 0. 0.]\n",
            " [0. 0. 1. 0. 0.]\n",
            " [0. 1. 0. 0. 0.]\n",
            " ...\n",
            " [0. 1. 0. 0. 0.]\n",
            " [0. 1. 0. 0. 0.]\n",
            " [0. 1. 0. 0. 0.]]\n"
          ],
          "name": "stdout"
        }
      ]
    },
    {
      "cell_type": "markdown",
      "metadata": {
        "id": "EBvI3w8IMGy4"
      },
      "source": [
        "1. Stochastic Gradient Descent (SGD)\n"
      ]
    },
    {
      "cell_type": "code",
      "metadata": {
        "id": "PzGHf97hMKip",
        "outputId": "bcb97b7a-fcc5-47c2-8002-341092ba0ba1",
        "colab": {
          "base_uri": "https://localhost:8080/"
        }
      },
      "source": [
        "from sklearn.linear_model import SGDClassifier\n",
        "from sklearn.model_selection import cross_val_score\n",
        "from sklearn.pipeline import make_pipeline\n",
        "\n",
        "clf = make_pipeline(StandardScaler(),\n",
        "                   SGDClassifier(random_state =42))\n",
        "clf.fit(Updated_X_train, Y_train)\n",
        "\n",
        "SGDClassifier()\n",
        "scores = cross_val_score(clf, Updated_X_train, Y_train, scoring = 'f1', cv=5)\n",
        "\n",
        "print('Performance scores:', scores.round(3))\n",
        "print(\"Mean value of SGD:\", round(scores.mean(),3))\n",
        "print(\"Standard deviation value of SGD:\", round(scores.std(),3))"
      ],
      "execution_count": null,
      "outputs": [
        {
          "output_type": "stream",
          "text": [
            "Performance scores: [0.709 0.593 0.677 0.652 0.615]\n",
            "Mean value of SGD: 0.649\n",
            "Standard deviation value of SGD: 0.042\n"
          ],
          "name": "stdout"
        }
      ]
    },
    {
      "cell_type": "markdown",
      "metadata": {
        "id": "eD9L6N2hMK-i"
      },
      "source": [
        "2. LogisticRegression"
      ]
    },
    {
      "cell_type": "code",
      "metadata": {
        "id": "uYn_FHpGMOcF",
        "outputId": "b1277993-f18e-43c0-980e-d6a16011294f",
        "colab": {
          "base_uri": "https://localhost:8080/"
        }
      },
      "source": [
        "from sklearn.linear_model import LogisticRegression\n",
        "from sklearn.model_selection import cross_val_score\n",
        "clf = LogisticRegression(random_state=42,max_iter=10000).fit(Updated_X_train, Y_train)\n",
        "LogisticRegression()\n",
        "scores = cross_val_score(clf, Updated_X_train, Y_train, scoring = 'f1', cv=5)\n",
        "\n",
        "print('Performance scores:', scores.round(3))\n",
        "print(\"Mean value of Logistic Regression:\", round(scores.mean(),3))\n",
        "print(\"Standard deviation value of Logistic Regression:\", round(scores.std(),3))"
      ],
      "execution_count": null,
      "outputs": [
        {
          "output_type": "stream",
          "text": [
            "Performance scores: [0.692 0.756 0.692 0.678 0.739]\n",
            "Mean value of Logistic Regression: 0.711\n",
            "Standard deviation value of Logistic Regression: 0.03\n"
          ],
          "name": "stdout"
        }
      ]
    },
    {
      "cell_type": "markdown",
      "metadata": {
        "id": "_V6jX60MKse2"
      },
      "source": [
        "3.Support Vector Machine (kernel='linear' parameter)"
      ]
    },
    {
      "cell_type": "code",
      "metadata": {
        "id": "M24eK04oJbs-",
        "outputId": "77c9a9f6-0906-4e8e-bd21-6840d169c5e0",
        "colab": {
          "base_uri": "https://localhost:8080/"
        }
      },
      "source": [
        "from sklearn.pipeline import make_pipeline\n",
        "from sklearn.svm import SVC\n",
        "clf = make_pipeline(StandardScaler(), SVC(kernel ='linear',random_state=42))\n",
        "clf.fit(Updated_X_train,Y_train)\n",
        "SVC()\n",
        "scores = cross_val_score(clf, Updated_X_train, Y_train, scoring = 'f1', cv=5)\n",
        "\n",
        "print('Performance scores:', scores.round(3))\n",
        "print(\"Mean value of SVM:\", round(scores.mean(),3))\n",
        "print(\"Standard deviation value of SVM:\", round(scores.std(),3))"
      ],
      "execution_count": null,
      "outputs": [
        {
          "output_type": "stream",
          "text": [
            "Performance scores: [0.726 0.742 0.712 0.645 0.708]\n",
            "Mean value of SVM: 0.707\n",
            "Standard deviation value of SVM: 0.033\n"
          ],
          "name": "stdout"
        }
      ]
    },
    {
      "cell_type": "markdown",
      "metadata": {
        "id": "dqi40bbpK6Cm"
      },
      "source": [
        "4.Support Vector Machine (kernel='rbf' parameter)"
      ]
    },
    {
      "cell_type": "code",
      "metadata": {
        "id": "1quFpDc8LA76",
        "outputId": "3fc3a6ac-5ff2-45ab-f865-82c2fc5ffd41",
        "colab": {
          "base_uri": "https://localhost:8080/"
        }
      },
      "source": [
        "from sklearn.pipeline import make_pipeline\n",
        "from sklearn.svm import SVC\n",
        "#No need to assign kernel to 'rbf'. It is that by default.\n",
        "clf = make_pipeline(StandardScaler(), SVC(random_state=42))\n",
        "clf.fit(Updated_X_train,Y_train)\n",
        "SVC()\n",
        "scores = cross_val_score(clf, Updated_X_train, Y_train, scoring = 'f1', cv=5)\n",
        "\n",
        "print('Performance scores:', scores.round(3))\n",
        "print(\"Mean value of SVM:\", round(scores.mean(),3))\n",
        "print(\"Standard deviation value of SVM:\", round(scores.std(),3))"
      ],
      "execution_count": null,
      "outputs": [
        {
          "output_type": "stream",
          "text": [
            "Performance scores: [0.754 0.763 0.742 0.701 0.785]\n",
            "Mean value of SVM: 0.749\n",
            "Standard deviation value of SVM: 0.028\n"
          ],
          "name": "stdout"
        }
      ]
    },
    {
      "cell_type": "markdown",
      "metadata": {
        "id": "oOWnNr8SGCDn"
      },
      "source": [
        "5.DecisionTreeClassifier"
      ]
    },
    {
      "cell_type": "code",
      "metadata": {
        "id": "MtgKcldvGGso",
        "outputId": "c343c351-09a4-487f-91b7-5459c3ffe55a",
        "colab": {
          "base_uri": "https://localhost:8080/"
        }
      },
      "source": [
        "from sklearn.tree import DecisionTreeClassifier\n",
        "from sklearn.model_selection import cross_val_score\n",
        "clf = DecisionTreeClassifier(random_state=42)\n",
        "clf.fit(Updated_X_train, Y_train)\n",
        "DecisionTreeClassifier()\n",
        "scores = cross_val_score(clf, Updated_X_train, Y_train, scoring = 'f1', cv=5)\n",
        "\n",
        "print('Performance scores:', scores.round(3))\n",
        "print(\"Mean value of DecisionTreeClassifier:\", round(scores.mean(),3))\n",
        "print(\"Standard deviation value of DecisionTreeClassifier:\", round(scores.std(),3))"
      ],
      "execution_count": null,
      "outputs": [
        {
          "output_type": "stream",
          "text": [
            "Performance scores: [0.213 0.707 0.727 0.651 0.789]\n",
            "Mean value of DecisionTreeClassifier: 0.617\n",
            "Standard deviation value of DecisionTreeClassifier: 0.207\n"
          ],
          "name": "stdout"
        }
      ]
    },
    {
      "cell_type": "markdown",
      "metadata": {
        "id": "CYZfWZzdBv9R"
      },
      "source": [
        "6.RandomForestClassifier"
      ]
    },
    {
      "cell_type": "code",
      "metadata": {
        "id": "ExL-IzeAlrAb",
        "outputId": "e77723d1-2799-48dd-f522-6e7ce1851ac3",
        "colab": {
          "base_uri": "https://localhost:8080/"
        }
      },
      "source": [
        "from sklearn.ensemble import RandomForestClassifier\n",
        "from sklearn.model_selection import cross_val_score\n",
        "clf = RandomForestClassifier(random_state=42)\n",
        "clf.fit(Updated_X_train, Y_train)\n",
        "RandomForestClassifier()\n",
        "scores = cross_val_score(clf, Updated_X_train, Y_train, scoring = 'f1', cv=5)\n",
        "\n",
        "print('Performance scores:', scores.round(3))\n",
        "print(\"Mean value of Classifier:\", round(scores.mean(),3))\n",
        "print(\"Standard deviation value of RandomForestClassifier:\", round(scores.std(), 3))"
      ],
      "execution_count": null,
      "outputs": [
        {
          "output_type": "stream",
          "text": [
            "Performance scores: [0.736 0.752 0.8   0.732 0.8  ]\n",
            "Mean value of Classifier: 0.764\n",
            "Standard deviation value of RandomForestClassifier: 0.03\n"
          ],
          "name": "stdout"
        }
      ]
    },
    {
      "cell_type": "markdown",
      "metadata": {
        "id": "b8TaLeoPF1NA"
      },
      "source": [
        "7. ExtraTreesClassifier"
      ]
    },
    {
      "cell_type": "code",
      "metadata": {
        "id": "q-hmoD0NuxRd",
        "outputId": "241cfc70-d664-463f-8519-189a5986bf03",
        "colab": {
          "base_uri": "https://localhost:8080/"
        }
      },
      "source": [
        "from sklearn.ensemble import ExtraTreesClassifier\n",
        "from sklearn.model_selection import cross_val_score\n",
        "\n",
        "clf = ExtraTreesClassifier(random_state=42)\n",
        "clf.fit(Updated_X_train, Y_train)\n",
        "ExtraTreesClassifier()\n",
        "scores = cross_val_score(clf, Updated_X_train, Y_train , scoring = 'f1', cv=5)\n",
        "\n",
        "print('Performance scores:', scores.round(3))\n",
        "print(\"Mean value of ExtraTreesClassifier:\", round(scores.mean(),3))\n",
        "print(\"Standard deviation value of ExtraTreesClassifier:\", round(scores.std(), 3))"
      ],
      "execution_count": null,
      "outputs": [
        {
          "output_type": "stream",
          "text": [
            "Performance scores: [0.748 0.721 0.763 0.712 0.789]\n",
            "Mean value of ExtraTreesClassifier: 0.747\n",
            "Standard deviation value of ExtraTreesClassifier: 0.028\n"
          ],
          "name": "stdout"
        }
      ]
    },
    {
      "cell_type": "markdown",
      "metadata": {
        "id": "OhDCQLwCF6nY"
      },
      "source": [
        "8.AdaBoostClassifier"
      ]
    },
    {
      "cell_type": "code",
      "metadata": {
        "id": "2qWLJBaru8yG",
        "outputId": "07bf06e5-2fa8-4851-c11b-9a0f7c989ffb",
        "colab": {
          "base_uri": "https://localhost:8080/"
        }
      },
      "source": [
        "from sklearn.ensemble import AdaBoostClassifier\n",
        "from sklearn.model_selection import cross_val_score\n",
        "\n",
        "clf = AdaBoostClassifier(random_state=42)\n",
        "clf.fit(Updated_X_train, Y_train)\n",
        "AdaBoostClassifier()\n",
        "scores = cross_val_score(clf, Updated_X_train, Y_train , scoring = 'f1', cv=5)\n",
        "\n",
        "print('Performance scores:', scores.round(3))\n",
        "print(\"Mean value of AdaBoostClassifier:\", round(scores.mean(),3))\n",
        "print(\"Standard deviation value of AdaBoostClassifier:\", round(scores.std(), 3))"
      ],
      "execution_count": null,
      "outputs": [
        {
          "output_type": "stream",
          "text": [
            "Performance scores: [0.    0.745 0.752 0.726 0.   ]\n",
            "Mean value of AdaBoostClassifier: 0.444\n",
            "Standard deviation value of AdaBoostClassifier: 0.363\n"
          ],
          "name": "stdout"
        }
      ]
    },
    {
      "cell_type": "markdown",
      "metadata": {
        "id": "qLvKInOKFmVO"
      },
      "source": [
        "9. GradientBoostingClassifier"
      ]
    },
    {
      "cell_type": "code",
      "metadata": {
        "id": "dWpzCZsZvJuZ",
        "outputId": "911c8017-7614-414a-e924-2e2aa9d5c697",
        "colab": {
          "base_uri": "https://localhost:8080/"
        }
      },
      "source": [
        "from sklearn.ensemble import GradientBoostingClassifier\n",
        "from sklearn.model_selection import cross_val_score\n",
        "clf = GradientBoostingClassifier(random_state=42)\n",
        "clf.fit(Updated_X_train, Y_train)\n",
        "GradientBoostingClassifier()\n",
        "scores = cross_val_score(clf, Updated_X_train, Y_train , scoring = 'f1', cv=5)\n",
        "\n",
        "print('Performance scores:', scores.round(3))\n",
        "print(\"Mean value of GradientBoostingClassifier:\", round(scores.mean(),3))\n",
        "print(\"Standard deviation value of GradientBoostingClassifier:\", round(scores.std(), 3))"
      ],
      "execution_count": null,
      "outputs": [
        {
          "output_type": "stream",
          "text": [
            "Performance scores: [0.029 0.754 0.818 0.744 0.756]\n",
            "Mean value of GradientBoostingClassifier: 0.62\n",
            "Standard deviation value of GradientBoostingClassifier: 0.297\n"
          ],
          "name": "stdout"
        }
      ]
    },
    {
      "cell_type": "markdown",
      "metadata": {
        "id": "j9SkpapBFdmE"
      },
      "source": [
        "10. XGBClassifier"
      ]
    },
    {
      "cell_type": "code",
      "metadata": {
        "id": "ejAN48NLT_4B",
        "outputId": "3fd47627-d48b-4650-f05c-9bd95fce120c",
        "colab": {
          "base_uri": "https://localhost:8080/"
        }
      },
      "source": [
        "\n",
        "import numpy as np\n",
        "from xgboost import XGBClassifier\n",
        "Updated_X_train = np.array(Updated_X_train)\n",
        "Y_train= np.array(Y_train)\n",
        "clf = XGBClassifier()\n",
        "clf.fit(Updated_X_train,Y_train.ravel())\n",
        "\n",
        "scores = cross_val_score(clf, Updated_X_train, Y_train , scoring = 'f1', cv=5)\n",
        "print('Performance scores:', scores.round(3))\n",
        "print(\"Mean value of XGBClassifier:\", round(scores.mean(),3))\n",
        "print(\"Standard deviation value of XGBClassifier:\", round(scores.std(), 3))"
      ],
      "execution_count": null,
      "outputs": [
        {
          "output_type": "stream",
          "text": [
            "Performance scores: [0.029 0.766 0.803 0.702 0.794]\n",
            "Mean value of XGBClassifier: 0.619\n",
            "Standard deviation value of XGBClassifier: 0.297\n"
          ],
          "name": "stdout"
        }
      ]
    },
    {
      "cell_type": "markdown",
      "metadata": {
        "id": "URIgcZND9pvk"
      },
      "source": [
        "### 5) g) Select the top 3 best performing classifiers. List them along with their mean and std scores. For these top 3 best performing classifiers, find the best hyperparameters using GridSearchCV. \n",
        "\n",
        "- Use estimator.get_params().keys() or the API description of the classifiers to find out which hyperparameters you can use. \n",
        "- Use the same scoring parameter ('f1') and use cv = 10 this time. \n",
        "- Print out the best_estimator_ and best_score_ results of your Grid Search\n",
        "- Use the following hyparparameter options if they fit for your top 3 classifiers:\n",
        "\n",
        "n_estimators = [300, 400, 500]\n",
        "\n",
        "learning_rate = [0.3, 0.1, 0.05]\n",
        "\n",
        "max_features =  [1, 0.5, 0.3]\n",
        "\n",
        "subsample = [1, 0.5, 0.3]\n",
        "\n",
        "max_samples = [1, 0.5, 0.3]\n",
        "\n",
        "bootstrap = [True,False]\n",
        "\n",
        "\n",
        "\n"
      ]
    },
    {
      "cell_type": "markdown",
      "metadata": {
        "id": "RzRb9V4FlzCP"
      },
      "source": [
        "Top 1: RandomForestClassifier"
      ]
    },
    {
      "cell_type": "code",
      "metadata": {
        "id": "Y10xaoaHlzcp",
        "outputId": "7e853a26-791b-4dff-d07a-ef39ac0edbe7",
        "colab": {
          "base_uri": "https://localhost:8080/"
        }
      },
      "source": [
        "from sklearn.ensemble import RandomForestClassifier\n",
        "from sklearn.model_selection import cross_val_score\n",
        "from sklearn.model_selection import GridSearchCV\n",
        "\n",
        "\n",
        "RFC = RandomForestClassifier(random_state=42)\n",
        "param_grid = {'n_estimators': [300,400,500],\n",
        "    'max_features': [1,0.5,0.3], 'max_samples':[1,0.5,0.3], 'bootstrap':[True,False]}\n",
        "clf = GridSearchCV(RFC, param_grid, scoring='f1',cv=10,)\n",
        "clf.fit(Updated_X_train, Y_train)\n",
        "\n",
        "RFC_best = clf.best_estimator_\n",
        "scores = cross_val_score(RFC, Updated_X_train, Y_train)\n",
        "scores_mean = round(scores.mean(),3)\n",
        "scores_std = round(scores.std(),3)\n",
        "print('Best_estimator:', RFC_best)\n",
        "print('Best_score_results:', round(clf.best_score_,3))\n",
        "print('Mean value:', scores_mean)\n",
        "print('Standard Deviation:',scores_std)"
      ],
      "execution_count": null,
      "outputs": [
        {
          "output_type": "stream",
          "text": [
            "Best_estimator: RandomForestClassifier(bootstrap=True, ccp_alpha=0.0, class_weight=None,\n",
            "                       criterion='gini', max_depth=None, max_features=0.3,\n",
            "                       max_leaf_nodes=None, max_samples=0.5,\n",
            "                       min_impurity_decrease=0.0, min_impurity_split=None,\n",
            "                       min_samples_leaf=1, min_samples_split=2,\n",
            "                       min_weight_fraction_leaf=0.0, n_estimators=300,\n",
            "                       n_jobs=None, oob_score=False, random_state=42, verbose=0,\n",
            "                       warm_start=False)\n",
            "Best_score_results: 0.785\n",
            "Mean value: 0.833\n",
            "Standard Deviation: 0.016\n"
          ],
          "name": "stdout"
        }
      ]
    },
    {
      "cell_type": "markdown",
      "metadata": {
        "id": "dn7UXQFMvxEJ"
      },
      "source": [
        "Top 2: Support Vector Machine Classification"
      ]
    },
    {
      "cell_type": "code",
      "metadata": {
        "id": "0LjbtIZ6j92t",
        "outputId": "77c203f2-529e-4ae7-9053-89693f030e7e",
        "colab": {
          "base_uri": "https://localhost:8080/"
        }
      },
      "source": [
        "import sklearn\n",
        "svc = sklearn.svm.SVC()\n",
        "from sklearn.model_selection import GridSearchCV\n",
        "#No need to assign kernel to 'rbf'. It is that by default.\n",
        "clfsvm = make_pipeline(StandardScaler(), SVC(random_state=42))\n",
        "\n",
        "param_grid = { }\n",
        "clfsvm = GridSearchCV(clfsvm,param_grid, scoring='f1',cv=10,)\n",
        "clfsvm.fit(Updated_X_train, Y_train)\n",
        "\n",
        "SVM_best = clfsvm.best_estimator_\n",
        "\n",
        "scores = cross_val_score(clfsvm, Updated_X_train, Y_train)\n",
        "scores_mean = round(scores.mean(),3)\n",
        "scores_std = round(scores.std(),3)\n",
        "print('Best_estimator:', SVM_best)\n",
        "print('Best_score_results:', round(clfsvm.best_score_,3))\n",
        "print('Mean value:', scores_mean)\n",
        "print('Standard Deviation:',scores_std)\n",
        "\n"
      ],
      "execution_count": null,
      "outputs": [
        {
          "output_type": "stream",
          "text": [
            "Best_estimator: Pipeline(memory=None,\n",
            "         steps=[('standardscaler',\n",
            "                 StandardScaler(copy=True, with_mean=True, with_std=True)),\n",
            "                ('svc',\n",
            "                 SVC(C=1.0, break_ties=False, cache_size=200, class_weight=None,\n",
            "                     coef0=0.0, decision_function_shape='ovr', degree=3,\n",
            "                     gamma='scale', kernel='rbf', max_iter=-1,\n",
            "                     probability=False, random_state=42, shrinking=True,\n",
            "                     tol=0.001, verbose=False))],\n",
            "         verbose=False)\n",
            "Best_score_results: 0.749\n",
            "Mean value: 0.749\n",
            "Standard Deviation: 0.028\n"
          ],
          "name": "stdout"
        }
      ]
    },
    {
      "cell_type": "markdown",
      "metadata": {
        "id": "O9gptUL3v709"
      },
      "source": [
        "Top 3: ExtraTreesClassifier"
      ]
    },
    {
      "cell_type": "code",
      "metadata": {
        "id": "dFyqVf8Xj-Wc"
      },
      "source": [
        "from sklearn.ensemble import ExtraTreesClassifier\n",
        "from sklearn.model_selection import cross_val_score\n",
        "from sklearn.model_selection import GridSearchCV\n",
        "\n",
        "etc = ExtraTreesClassifier(random_state=42)\n",
        "param_grid = {'n_estimators': [300,400,500],\n",
        "    'max_features': [1,0.5,0.3], 'max_samples':[1,0.5,0.3], 'bootstrap':[True,False]}\n",
        "etc = GridSearchCV(etc, param_grid, scoring='f1',cv=10,)\n",
        "etc.fit(Updated_X_train, Y_train)\n",
        "\n",
        "scores = cross_val_score(etc, Updated_X_train, Y_train)\n",
        "\n",
        "ETC_best = etc.best_estimator_\n",
        "scores_mean = scores.mean()\n",
        "scores_std = scores.std()\n",
        "print('Best_estimator:', etc.best_estimator_)\n",
        "print('Best_score_results:', etc.best_score_)\n",
        "print('Mean value:', scores_mean)\n",
        "print('Standard Deviation:',scores_std)"
      ],
      "execution_count": null,
      "outputs": []
    },
    {
      "cell_type": "markdown",
      "metadata": {
        "id": "Gk1WkMIS_68R"
      },
      "source": [
        "### 5) h) For the top 3 best performing classifiers, plot the learning curve chart. You can benefit from the following page for the plot:\n",
        "\n",
        "Kaggl Titanic: A Machine Learning from Disaster | Modelling Part 2: \n",
        "https://www.codementor.io/@innat_2k14/kaggl-titanic-a-machine-learning-from-disaster-modelling-part-2-10gfjtm0p3\n"
      ]
    },
    {
      "cell_type": "markdown",
      "metadata": {
        "id": "VOY9qXiwV7C8"
      },
      "source": [
        "RandomForestClassifier "
      ]
    },
    {
      "cell_type": "code",
      "metadata": {
        "id": "pTBhm61ijIO3",
        "outputId": "16559687-d393-454c-ebc2-ad96152f903e",
        "colab": {
          "base_uri": "https://localhost:8080/",
          "height": 297
        }
      },
      "source": [
        "import numpy as np \n",
        "import matplotlib.pyplot as plt \n",
        "from sklearn.datasets import load_digits \n",
        "from sklearn.model_selection import learning_curve \n",
        "\n",
        " \n",
        "\n",
        "# Obtain scores from learning curve function \n",
        "# cv is the number of folds while performing Cross Validation \n",
        "sizes, training_scores, testing_scores = learning_curve(clf.best_estimator_, Updated_X_train, Y_train, cv=10, train_sizes=np.linspace(0.01, 1.0, 50)) \n",
        "\n",
        "# Mean and Standard Deviation of training scores \n",
        "mean_training = np.mean(training_scores, axis=1) \n",
        "Standard_Deviation_training = np.std(training_scores, axis=1) \n",
        "\n",
        "# Mean and Standard Deviation of testing scores \n",
        "mean_testing = np.mean(testing_scores, axis=1) \n",
        "Standard_Deviation_testing = np.std(testing_scores, axis=1) \n",
        "\n",
        "# dotted blue line is for training scores and green line is for cross-validation score \n",
        "plt.plot(sizes, mean_training, '--', color=\"b\", label=\"Training score\") \n",
        "plt.plot(sizes, mean_testing, color=\"g\", label=\"Cross-validation score\") \n",
        "\n",
        "# Drawing plot \n",
        "plt.title(\"LEARNING CURVE FOR RFC Classifier\") \n",
        "plt.xlabel(\"Training\"), plt.ylabel(\"Score\"), plt.legend(loc=\"best\") \n",
        "plt.tight_layout() \n",
        "plt.show()\n"
      ],
      "execution_count": null,
      "outputs": [
        {
          "output_type": "display_data",
          "data": {
            "image/png": "[encoded data removed]",
            "text/plain": [
              "<Figure size 432x288 with 1 Axes>"
            ]
          },
          "metadata": {
            "tags": [],
            "needs_background": "light"
          }
        }
      ]
    },
    {
      "cell_type": "markdown",
      "metadata": {
        "id": "EEed27XGkNpk"
      },
      "source": [
        "Support Vector Machine (kernel='rbf' parameter)"
      ]
    },
    {
      "cell_type": "code",
      "metadata": {
        "id": "IAnIxi6IWbZT",
        "outputId": "a2fd4a38-e553-4b4e-e7de-7e9fda6420bb",
        "colab": {
          "base_uri": "https://localhost:8080/",
          "height": 297
        }
      },
      "source": [
        "#Importing Required Libraries and Modules \n",
        "import numpy as np \n",
        "import matplotlib.pyplot as plt \n",
        "from sklearn.datasets import load_digits \n",
        "from sklearn.model_selection import learning_curve \n",
        "\n",
        " \n",
        "\n",
        "# Obtain scores from learning curve function \n",
        "# cv is the number of folds while performing Cross Validation \n",
        "sizes, training_scores, testing_scores = learning_curve(clfsvm.best_estimator_, Updated_X_train, Y_train, cv=10, train_sizes=np.linspace(0.01, 1.0, 50)) \n",
        "\n",
        "# Mean and Standard Deviation of training scores \n",
        "mean_training = np.mean(training_scores, axis=1) \n",
        "Standard_Deviation_training = np.std(training_scores, axis=1) \n",
        "\n",
        "# Mean and Standard Deviation of testing scores \n",
        "mean_testing = np.mean(testing_scores, axis=1) \n",
        "Standard_Deviation_testing = np.std(testing_scores, axis=1) \n",
        "\n",
        "# dotted blue line is for training scores and green line is for cross-validation score \n",
        "plt.plot(sizes, mean_training, '--', color=\"b\", label=\"Training score\") \n",
        "plt.plot(sizes, mean_testing, color=\"g\", label=\"Cross-validation score\") \n",
        "\n",
        "# Drawing plot \n",
        "plt.title(\"LEARNING CURVE FOR SVM Classifier\") \n",
        "plt.xlabel(\"Training\"), plt.ylabel(\"Score\"), plt.legend(loc=\"best\") \n",
        "plt.tight_layout() \n",
        "plt.show()\n"
      ],
      "execution_count": null,
      "outputs": [
        {
          "output_type": "display_data",
          "data": {
            "image/png": "[encoded data removed]",
            "text/plain": [
              "<Figure size 432x288 with 1 Axes>"
            ]
          },
          "metadata": {
            "tags": [],
            "needs_background": "light"
          }
        }
      ]
    },
    {
      "cell_type": "markdown",
      "metadata": {
        "id": "YbkZuwpGHtG9"
      },
      "source": [
        "ExtraTreesClassifier"
      ]
    },
    {
      "cell_type": "code",
      "metadata": {
        "id": "FQTHpkzAHxyi",
        "outputId": "018f3172-9d50-4e6e-d9cc-78c3fdf8c336",
        "colab": {
          "base_uri": "https://localhost:8080/",
          "height": 248
        }
      },
      "source": [
        "#Importing Required Libraries and Modules \n",
        "import numpy as np \n",
        "import matplotlib.pyplot as plt \n",
        "from sklearn.datasets import load_digits \n",
        "from sklearn.model_selection import learning_curve \n",
        "\n",
        " \n",
        "\n",
        "# Obtain scores from learning curve function \n",
        "# cv is the number of folds while performing Cross Validation \n",
        "sizes, training_scores, testing_scores = learning_curve(etc.best_estimator_, Updated_X_train, Y_train, cv=10, train_sizes=np.linspace(0.01, 1.0, 50)) \n",
        "\n",
        "# Mean and Standard Deviation of training scores \n",
        "mean_training = np.mean(training_scores, axis=1) \n",
        "Standard_Deviation_training = np.std(training_scores, axis=1) \n",
        "\n",
        "# Mean and Standard Deviation of testing scores \n",
        "mean_testing = np.mean(testing_scores, axis=1) \n",
        "Standard_Deviation_testing = np.std(testing_scores, axis=1) \n",
        "\n",
        "# dotted blue line is for training scores and green line is for cross-validation score \n",
        "plt.plot(sizes, mean_training, '--', color=\"b\", label=\"Training score\") \n",
        "plt.plot(sizes, mean_testing, color=\"g\", label=\"Cross-validation score\") \n",
        "\n",
        "# Drawing plot \n",
        "plt.title(\"LEARNING CURVE FOR ETC Classifier\") \n",
        "plt.xlabel(\"Training\"), plt.ylabel(\"Score\"), plt.legend(loc=\"best\") \n",
        "plt.tight_layout() \n",
        "plt.show()"
      ],
      "execution_count": null,
      "outputs": [
        {
          "output_type": "error",
          "ename": "AttributeError",
          "evalue": "ignored",
          "traceback": [
            "\u001b[0;31m---------------------------------------------------------------------------\u001b[0m",
            "\u001b[0;31mAttributeError\u001b[0m                            Traceback (most recent call last)",
            "\u001b[0;32m<ipython-input-57-434d89a10f38>\u001b[0m in \u001b[0;36m<module>\u001b[0;34m()\u001b[0m\n\u001b[1;32m      9\u001b[0m \u001b[0;31m# Obtain scores from learning curve function\u001b[0m\u001b[0;34m\u001b[0m\u001b[0;34m\u001b[0m\u001b[0;34m\u001b[0m\u001b[0m\n\u001b[1;32m     10\u001b[0m \u001b[0;31m# cv is the number of folds while performing Cross Validation\u001b[0m\u001b[0;34m\u001b[0m\u001b[0;34m\u001b[0m\u001b[0;34m\u001b[0m\u001b[0m\n\u001b[0;32m---> 11\u001b[0;31m \u001b[0msizes\u001b[0m\u001b[0;34m,\u001b[0m \u001b[0mtraining_scores\u001b[0m\u001b[0;34m,\u001b[0m \u001b[0mtesting_scores\u001b[0m \u001b[0;34m=\u001b[0m \u001b[0mlearning_curve\u001b[0m\u001b[0;34m(\u001b[0m\u001b[0metc\u001b[0m\u001b[0;34m.\u001b[0m\u001b[0mbest_estimator_\u001b[0m\u001b[0;34m,\u001b[0m \u001b[0mUpdated_X_train\u001b[0m\u001b[0;34m,\u001b[0m \u001b[0mY_train\u001b[0m\u001b[0;34m,\u001b[0m \u001b[0mcv\u001b[0m\u001b[0;34m=\u001b[0m\u001b[0;36m10\u001b[0m\u001b[0;34m,\u001b[0m \u001b[0mtrain_sizes\u001b[0m\u001b[0;34m=\u001b[0m\u001b[0mnp\u001b[0m\u001b[0;34m.\u001b[0m\u001b[0mlinspace\u001b[0m\u001b[0;34m(\u001b[0m\u001b[0;36m0.01\u001b[0m\u001b[0;34m,\u001b[0m \u001b[0;36m1.0\u001b[0m\u001b[0;34m,\u001b[0m \u001b[0;36m50\u001b[0m\u001b[0;34m)\u001b[0m\u001b[0;34m)\u001b[0m\u001b[0;34m\u001b[0m\u001b[0;34m\u001b[0m\u001b[0m\n\u001b[0m\u001b[1;32m     12\u001b[0m \u001b[0;34m\u001b[0m\u001b[0m\n\u001b[1;32m     13\u001b[0m \u001b[0;31m# Mean and Standard Deviation of training scores\u001b[0m\u001b[0;34m\u001b[0m\u001b[0;34m\u001b[0m\u001b[0;34m\u001b[0m\u001b[0m\n",
            "\u001b[0;31mAttributeError\u001b[0m: 'GridSearchCV' object has no attribute 'best_estimator_'"
          ]
        }
      ]
    },
    {
      "cell_type": "markdown",
      "metadata": {
        "id": "PybDCeKHdhgu"
      },
      "source": [
        "### 5) i) Use VotingClassifier of sklearn to create an ensemble learner that utilizes the top 3 estimators you found above. Set the voting parameter to 'soft'. Use cross_val_score to calculate its score and print out its mean and std values. The following page might be useful:\n",
        "\n",
        "Kaggl Titanic: A Machine Learning from Disaster | Modelling Part 2: \n",
        "https://www.codementor.io/@innat_2k14/kaggl-titanic-a-machine-learning-from-disaster-modelling-part-2-10gfjtm0p3\n"
      ]
    },
    {
      "cell_type": "code",
      "metadata": {
        "id": "gpXg94uYl-Nt"
      },
      "source": [
        "from sklearn.ensemble import RandomForestClassifier,ExtraTreesClassifier VotingClassifier\n",
        "from sklearn.svm import SVC\n",
        "VotingPredictor = VotingClassifier(estimators =\n",
        "                           [('rfc', RFC_best), \n",
        "                            ('svm', SVM_best),\n",
        "                            ('etc', ETC_best)],\n",
        "                           voting='soft')\n",
        "\n",
        "\n",
        "VotingPredictor = VotingPredictor.fit(Updated_X_train, Y_train)\n",
        "\n",
        "scores = cross_val_score(VotingPredictor, Updated_X_train, Y_train, cv = K_fold,\n",
        "                        scoring = 'accuracy')\n",
        "\n",
        "print(scores)\n",
        "print(round(np.mean(scores)*100, 2))"
      ],
      "execution_count": null,
      "outputs": []
    },
    {
      "cell_type": "markdown",
      "metadata": {
        "id": "FX8xGOfLe359"
      },
      "source": [
        "### 5) j) Use the VotingClassifier you created above to predict 'Survived' for the X_test."
      ]
    },
    {
      "cell_type": "code",
      "metadata": {
        "id": "7g7sP3bxmBFU"
      },
      "source": [
        ""
      ],
      "execution_count": null,
      "outputs": []
    },
    {
      "cell_type": "markdown",
      "metadata": {
        "id": "H3EIbxWIgItM"
      },
      "source": [
        "### 5) k) Prepare a csv file to submit to kaggle.com. Submit it and then put your results here."
      ]
    },
    {
      "cell_type": "code",
      "metadata": {
        "id": "NTn961j5mDpz"
      },
      "source": [
        ""
      ],
      "execution_count": null,
      "outputs": []
    },
    {
      "cell_type": "markdown",
      "metadata": {
        "id": "XFbvpCx-g18Z"
      },
      "source": [
        "### 5) l) Think of what you can do extra to improve your results."
      ]
    },
    {
      "cell_type": "code",
      "metadata": {
        "id": "TvKKMWtKhG8-"
      },
      "source": [
        ""
      ],
      "execution_count": null,
      "outputs": []
    },
    {
      "cell_type": "markdown",
      "metadata": {
        "id": "0aGij_8ohKLr"
      },
      "source": [
        "### 5) m) (Bonus) Apply those idea(s) and then make another submission. Put your results here."
      ]
    },
    {
      "cell_type": "markdown",
      "metadata": {
        "id": "4mzvznaDmHHw"
      },
      "source": [
        ""
      ]
    },
    {
      "cell_type": "code",
      "metadata": {
        "id": "uXuQXJr3mGRq"
      },
      "source": [
        ""
      ],
      "execution_count": null,
      "outputs": []
    },
    {
      "cell_type": "markdown",
      "metadata": {
        "id": "jdH_8ldxDBRG"
      },
      "source": [
        "## 6) Run all of your code and get your output"
      ]
    },
    {
      "cell_type": "code",
      "metadata": {
        "id": "RSux2AVKHth3"
      },
      "source": [
        ""
      ],
      "execution_count": null,
      "outputs": []
    },
    {
      "cell_type": "markdown",
      "metadata": {
        "id": "jHc95F7CGupC"
      },
      "source": [
        "## 7) Print the latest status of your notebook to a pdf file \n",
        "- The pdf file must include the link of your jupyter notebook page (see step 2 above)"
      ]
    },
    {
      "cell_type": "markdown",
      "metadata": {
        "id": "gcLDxwqrG3Zx"
      },
      "source": [
        "## 8) Submit the PDF file on Canvas"
      ]
    },
    {
      "cell_type": "code",
      "metadata": {
        "id": "59LSrX0TSaDK",
        "outputId": "04751fd3-faf8-47e6-9439-f5baf5269cd7",
        "colab": {
          "base_uri": "https://localhost:8080/",
          "height": 667
        }
      },
      "source": [
        "!wget -nc https://raw.githubusercontent.com/brpy/colab-pdf/master/colab_pdf.py\n",
        "from colab_pdf import colab_pdf\n",
        "colab_pdf('Project_Titanic_Part_2_AlexisDowning.ipynb')"
      ],
      "execution_count": null,
      "outputs": [
        {
          "output_type": "stream",
          "text": [
            "File ‘colab_pdf.py’ already there; not retrieving.\n",
            "\n",
            "Hit:1 http://ppa.launchpad.net/c2d4u.team/c2d4u4.0+/ubuntu bionic InRelease\n",
            "Hit:2 http://archive.ubuntu.com/ubuntu bionic InRelease\n",
            "Get:3 http://archive.ubuntu.com/ubuntu bionic-updates InRelease [88.7 kB]\n",
            "Hit:4 http://ppa.launchpad.net/graphics-drivers/ppa/ubuntu bionic InRelease\n",
            "Hit:5 https://cloud.r-project.org/bin/linux/ubuntu bionic-cran40/ InRelease\n",
            "Get:6 http://archive.ubuntu.com/ubuntu bionic-backports InRelease [74.6 kB]\n",
            "Get:7 http://security.ubuntu.com/ubuntu bionic-security InRelease [88.7 kB]\n",
            "Ign:8 https://developer.download.nvidia.com/compute/cuda/repos/ubuntu1804/x86_64  InRelease\n",
            "Ign:9 https://developer.download.nvidia.com/compute/machine-learning/repos/ubuntu1804/x86_64  InRelease\n",
            "Hit:10 https://developer.download.nvidia.com/compute/cuda/repos/ubuntu1804/x86_64  Release\n",
            "Hit:11 https://developer.download.nvidia.com/compute/machine-learning/repos/ubuntu1804/x86_64  Release\n",
            "Fetched 252 kB in 2s (133 kB/s)\n",
            "Reading package lists... Done\n",
            "Building dependency tree       \n",
            "Reading state information... Done\n",
            "24 packages can be upgraded. Run 'apt list --upgradable' to see them.\n",
            "Reading package lists... Done\n",
            "Building dependency tree       \n",
            "Reading state information... Done\n",
            "texlive-fonts-recommended is already the newest version (2017.20180305-1).\n",
            "texlive-generic-recommended is already the newest version (2017.20180305-1).\n",
            "texlive-xetex is already the newest version (2017.20180305-1).\n",
            "0 upgraded, 0 newly installed, 0 to remove and 24 not upgraded.\n",
            "[NbConvertApp] Converting notebook /content/drive/My Drive/Colab Notebooks/Project_Titanic_Part_2_AlexisDowning.ipynb to pdf\n",
            "[NbConvertApp] Support files will be in Project_Titanic_Part_2_AlexisDowning_files/\n",
            "[NbConvertApp] Making directory ./Project_Titanic_Part_2_AlexisDowning_files\n",
            "[NbConvertApp] Making directory ./Project_Titanic_Part_2_AlexisDowning_files\n",
            "[NbConvertApp] Writing 179338 bytes to ./notebook.tex\n",
            "[NbConvertApp] Building PDF\n",
            "[NbConvertApp] Running xelatex 3 times: [u'xelatex', u'./notebook.tex', '-quiet']\n",
            "[NbConvertApp] Running bibtex 1 time: [u'bibtex', u'./notebook']\n",
            "[NbConvertApp] WARNING | bibtex had problems, most likely because there were no citations\n",
            "[NbConvertApp] PDF successfully created\n",
            "[NbConvertApp] Writing 163931 bytes to /content/drive/My Drive/Project_Titanic_Part_2_AlexisDowning.pdf\n"
          ],
          "name": "stdout"
        },
        {
          "output_type": "display_data",
          "data": {
            "application/javascript": [
              "\n",
              "    async function download(id, filename, size) {\n",
              "      if (!google.colab.kernel.accessAllowed) {\n",
              "        return;\n",
              "      }\n",
              "      const div = document.createElement('div');\n",
              "      const label = document.createElement('label');\n",
              "      label.textContent = `Downloading \"${filename}\": `;\n",
              "      div.appendChild(label);\n",
              "      const progress = document.createElement('progress');\n",
              "      progress.max = size;\n",
              "      div.appendChild(progress);\n",
              "      document.body.appendChild(div);\n",
              "\n",
              "      const buffers = [];\n",
              "      let downloaded = 0;\n",
              "\n",
              "      const channel = await google.colab.kernel.comms.open(id);\n",
              "      // Send a message to notify the kernel that we're ready.\n",
              "      channel.send({})\n",
              "\n",
              "      for await (const message of channel.messages) {\n",
              "        // Send a message to notify the kernel that we're ready.\n",
              "        channel.send({})\n",
              "        if (message.buffers) {\n",
              "          for (const buffer of message.buffers) {\n",
              "            buffers.push(buffer);\n",
              "            downloaded += buffer.byteLength;\n",
              "            progress.value = downloaded;\n",
              "          }\n",
              "        }\n",
              "      }\n",
              "      const blob = new Blob(buffers, {type: 'application/binary'});\n",
              "      const a = document.createElement('a');\n",
              "      a.href = window.URL.createObjectURL(blob);\n",
              "      a.download = filename;\n",
              "      div.appendChild(a);\n",
              "      a.click();\n",
              "      div.remove();\n",
              "    }\n",
              "  "
            ],
            "text/plain": [
              "<IPython.core.display.Javascript object>"
            ]
          },
          "metadata": {
            "tags": []
          }
        },
        {
          "output_type": "display_data",
          "data": {
            "application/javascript": [
              "download(\"download_cba79e90-56ac-4095-b93e-a7a9e7ded540\", \"Project_Titanic_Part_2_AlexisDowning.pdf\", 163931)"
            ],
            "text/plain": [
              "<IPython.core.display.Javascript object>"
            ]
          },
          "metadata": {
            "tags": []
          }
        },
        {
          "output_type": "execute_result",
          "data": {
            "application/vnd.google.colaboratory.intrinsic+json": {
              "type": "string"
            },
            "text/plain": [
              "'File ready to be Downloaded and Saved to Drive'"
            ]
          },
          "metadata": {
            "tags": []
          },
          "execution_count": 58
        }
      ]
    }
  ]
}